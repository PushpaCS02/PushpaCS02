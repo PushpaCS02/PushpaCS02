{
  "nbformat": 4,
  "nbformat_minor": 0,
  "metadata": {
    "colab": {
      "provenance": [],
      "authorship_tag": "ABX9TyN76wPRq+IjIVwLuPZIgBTF",
      "include_colab_link": true
    },
    "kernelspec": {
      "name": "python3",
      "display_name": "Python 3"
    },
    "language_info": {
      "name": "python"
    }
  },
  "cells": [
    {
      "cell_type": "markdown",
      "metadata": {
        "id": "view-in-github",
        "colab_type": "text"
      },
      "source": [
        "<a href=\"https://colab.research.google.com/github/PushpaCS02/PushpaCS02/blob/main/1day2.ipynb\" target=\"_parent\"><img src=\"https://colab.research.google.com/assets/colab-badge.svg\" alt=\"Open In Colab\"/></a>"
      ]
    },
    {
      "cell_type": "markdown",
      "source": [
        "Number is divisible  by 5 and 10"
      ],
      "metadata": {
        "id": "0ogDaKNc_lUu"
      }
    },
    {
      "cell_type": "code",
      "source": [
        "num=int(input(\"Enter a number:\"))\n",
        "if num%5==0 and num%10==0:\n",
        "  print(\"number is divisible 5&10\")\n",
        "else:\n",
        "  print(\"number is not divisible 5&10 \")"
      ],
      "metadata": {
        "colab": {
          "base_uri": "https://localhost:8080/"
        },
        "id": "DhUWgfzx_3fN",
        "outputId": "7c05642b-96cc-4404-eaeb-9ac1ba5effa5"
      },
      "execution_count": 5,
      "outputs": [
        {
          "output_type": "stream",
          "name": "stdout",
          "text": [
            "Enter a number:15\n",
            "number is not divisible 5&10 \n"
          ]
        }
      ]
    },
    {
      "cell_type": "markdown",
      "source": [
        "**Number is a Multipli of both 3 and 5.**"
      ],
      "metadata": {
        "id": "A1MYUBHdCrJU"
      }
    },
    {
      "cell_type": "code",
      "source": [
        "num=int(input(\"Enter the number:\"))\n",
        "if num%3==0 and num%5==0:\n",
        "  print(\"number is multipli of both 3&5\")\n",
        "else:\n",
        "  print(\"number is not multipli of both 3&5\")"
      ],
      "metadata": {
        "colab": {
          "base_uri": "https://localhost:8080/"
        },
        "id": "4VzuWXH7DOck",
        "outputId": "a94ba893-cc7d-454a-f2f8-5c6953496a07"
      },
      "execution_count": 6,
      "outputs": [
        {
          "output_type": "stream",
          "name": "stdout",
          "text": [
            "Enter the number:7\n",
            "number is not multipli of both 3&5\n"
          ]
        }
      ]
    },
    {
      "cell_type": "markdown",
      "source": [
        "Given Charecter is a Voewel or Consonant"
      ],
      "metadata": {
        "id": "iC92e4prEn0z"
      }
    },
    {
      "cell_type": "code",
      "source": [
        "char=input(\"Enter a single charecter:\")\n",
        "if char in \"aeiou\":\n",
        "    print(\"vowel\")\n",
        "else:\n",
        "  print(\"consonent\")"
      ],
      "metadata": {
        "colab": {
          "base_uri": "https://localhost:8080/"
        },
        "id": "M2erjYhKFI4r",
        "outputId": "d763c067-d3e7-43f9-9c9f-064817c53d35"
      },
      "execution_count": 18,
      "outputs": [
        {
          "output_type": "stream",
          "name": "stdout",
          "text": [
            "Enter a single charecter:w\n",
            "consonent\n"
          ]
        }
      ]
    },
    {
      "cell_type": "markdown",
      "source": [
        "Checks whether a string is empty or not"
      ],
      "metadata": {
        "id": "uTKRr4WZHqXJ"
      }
    },
    {
      "cell_type": "code",
      "source": [
        "string=input(\"Enter a string:\")\n",
        "\n",
        "if len(string) == 0:\n",
        "  print(\"The string is empty\")\n",
        "else:\n",
        "  print(\"The string is not empty\")"
      ],
      "metadata": {
        "colab": {
          "base_uri": "https://localhost:8080/"
        },
        "id": "G-SAJlN7IGkw",
        "outputId": "879cc42d-3b39-447f-b438-0212d0a05cc9"
      },
      "execution_count": 20,
      "outputs": [
        {
          "output_type": "stream",
          "name": "stdout",
          "text": [
            "Enter a string:\" \"\n",
            "The string is not empty\n"
          ]
        }
      ]
    },
    {
      "cell_type": "markdown",
      "source": [
        "\"Adult\" if the person's age is greter than or equal to 18 other wise print \"minor\""
      ],
      "metadata": {
        "id": "Wt8vsa7QKgd_"
      }
    },
    {
      "cell_type": "code",
      "source": [
        "age=int(input(\"enter the age\"))\n",
        "if age>=18:\n",
        "  print(\"Adult\")\n",
        "else:\n",
        "  print(\"Minor\")"
      ],
      "metadata": {
        "colab": {
          "base_uri": "https://localhost:8080/"
        },
        "id": "g072lv-sMk7-",
        "outputId": "c64db8d8-71f9-4275-a510-333f67aaf2e4"
      },
      "execution_count": 27,
      "outputs": [
        {
          "output_type": "stream",
          "name": "stdout",
          "text": [
            "enter the age19\n",
            "Adult\n"
          ]
        }
      ]
    },
    {
      "cell_type": "markdown",
      "source": [
        "calculate sum of numbers from 1 to 100"
      ],
      "metadata": {
        "id": "9dXI83SzNwa1"
      }
    },
    {
      "cell_type": "code",
      "source": [
        "total_sum = 0\n",
        "for number in range (1,101):\n",
        "  total_sum+=number\n",
        "print(f\" The sum of numbers from 1 to 100 is:{total_sum}\")"
      ],
      "metadata": {
        "colab": {
          "base_uri": "https://localhost:8080/"
        },
        "id": "CsTgAfhvOPo1",
        "outputId": "d9384509-138e-4143-a35e-c68cecf3fd03"
      },
      "execution_count": 5,
      "outputs": [
        {
          "output_type": "stream",
          "name": "stdout",
          "text": [
            " The sum of numbers from 1 to 100 is:5050\n"
          ]
        }
      ]
    },
    {
      "cell_type": "markdown",
      "source": [
        "multiplication table of a 5"
      ],
      "metadata": {
        "id": "NYqLjCudP_ns"
      }
    },
    {
      "cell_type": "code",
      "source": [
        "num=5\n",
        "for i in range(1,11):\n",
        "  print(f\"{num} X {i} = {num*i}\")\n"
      ],
      "metadata": {
        "colab": {
          "base_uri": "https://localhost:8080/"
        },
        "id": "N8H6iYbwQSqL",
        "outputId": "dd60a6c0-f47d-47f3-c3a8-0608e9e1e1f7"
      },
      "execution_count": 14,
      "outputs": [
        {
          "output_type": "stream",
          "name": "stdout",
          "text": [
            "5 X 1 = 5\n",
            "5 X 2 = 10\n",
            "5 X 3 = 15\n",
            "5 X 4 = 20\n",
            "5 X 5 = 25\n",
            "5 X 6 = 30\n",
            "5 X 7 = 35\n",
            "5 X 8 = 40\n",
            "5 X 9 = 45\n",
            "5 X 10 = 50\n"
          ]
        }
      ]
    },
    {
      "cell_type": "markdown",
      "source": [
        "find the two smallest number\n"
      ],
      "metadata": {
        "id": "oWSoz3VwR-oj"
      }
    },
    {
      "cell_type": "markdown",
      "source": [
        "Character in string"
      ],
      "metadata": {
        "id": "l92VuJ8kVjzw"
      }
    },
    {
      "cell_type": "code",
      "source": [
        "string = \"hello , world!\"\n",
        "index = 0\n",
        "while index < len(string):\n",
        "     print(string[index])\n",
        "     index+=1\n"
      ],
      "metadata": {
        "colab": {
          "base_uri": "https://localhost:8080/"
        },
        "id": "xM7mq-H6WK0h",
        "outputId": "baecde3a-9456-4e22-9f32-845b514015a7"
      },
      "execution_count": 29,
      "outputs": [
        {
          "output_type": "stream",
          "name": "stdout",
          "text": [
            "h\n",
            "e\n",
            "l\n",
            "l\n",
            "o\n",
            " \n",
            ",\n",
            " \n",
            "w\n",
            "o\n",
            "r\n",
            "l\n",
            "d\n",
            "!\n"
          ]
        }
      ]
    },
    {
      "cell_type": "markdown",
      "source": [
        "count 5 numbers"
      ],
      "metadata": {
        "id": "BQxx3hyEXXQf"
      }
    },
    {
      "cell_type": "code",
      "source": [
        "count=0\n",
        "while count<5:\n",
        "  print(count)\n",
        "  count=count+1"
      ],
      "metadata": {
        "colab": {
          "base_uri": "https://localhost:8080/"
        },
        "id": "WVYTrNb5Xc6_",
        "outputId": "3b9fa0e1-1b68-42f5-c493-ee556071225f"
      },
      "execution_count": 31,
      "outputs": [
        {
          "output_type": "stream",
          "name": "stdout",
          "text": [
            "0\n",
            "1\n",
            "2\n",
            "3\n",
            "4\n"
          ]
        }
      ]
    },
    {
      "cell_type": "markdown",
      "source": [
        "multple of 6\n"
      ],
      "metadata": {
        "id": "paa-vUuuX-dv"
      }
    },
    {
      "cell_type": "code",
      "source": [
        "limit=6\n",
        "while num<limit:\n",
        "  print(num)\n",
        "  num+=6"
      ],
      "metadata": {
        "colab": {
          "base_uri": "https://localhost:8080/"
        },
        "id": "Arr_rYZUYGUY",
        "outputId": "79261b6f-b283-4fa0-9be2-9eea6ad180c1"
      },
      "execution_count": 32,
      "outputs": [
        {
          "output_type": "stream",
          "name": "stdout",
          "text": [
            "5\n"
          ]
        }
      ]
    }
  ]
}