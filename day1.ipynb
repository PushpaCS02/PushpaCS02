{
  "nbformat": 4,
  "nbformat_minor": 0,
  "metadata": {
    "colab": {
      "provenance": [],
      "authorship_tag": "ABX9TyPMbBgcRFGY5vmcLlw3YgXJ",
      "include_colab_link": true
    },
    "kernelspec": {
      "name": "python3",
      "display_name": "Python 3"
    },
    "language_info": {
      "name": "python"
    }
  },
  "cells": [
    {
      "cell_type": "markdown",
      "metadata": {
        "id": "view-in-github",
        "colab_type": "text"
      },
      "source": [
        "<a href=\"https://colab.research.google.com/github/PushpaCS02/PushpaCS02/blob/main/day1.ipynb\" target=\"_parent\"><img src=\"https://colab.research.google.com/assets/colab-badge.svg\" alt=\"Open In Colab\"/></a>"
      ]
    },
    {
      "cell_type": "code",
      "execution_count": 1,
      "metadata": {
        "colab": {
          "base_uri": "https://localhost:8080/"
        },
        "id": "8QNJYAOPyghr",
        "outputId": "6c749cf4-d18b-4b3b-b128-45eef659399c"
      },
      "outputs": [
        {
          "output_type": "stream",
          "name": "stdout",
          "text": [
            "hello, world\n"
          ]
        }
      ],
      "source": [
        "print(\"hello, world\")"
      ]
    },
    {
      "cell_type": "code",
      "source": [
        "a=10\n",
        "b=3.14\n",
        "name='pushpa'\n",
        "print(a,b,name+\"all are happy\")\n",
        "\n"
      ],
      "metadata": {
        "colab": {
          "base_uri": "https://localhost:8080/"
        },
        "id": "Ap80g5nNzo45",
        "outputId": "585619ac-f4f8-4690-b9f4-b473c6da0cb7"
      },
      "execution_count": 3,
      "outputs": [
        {
          "output_type": "stream",
          "name": "stdout",
          "text": [
            "10 3.14 pushpaall are happy\n"
          ]
        }
      ]
    },
    {
      "cell_type": "markdown",
      "source": [
        "arithmetics opreters"
      ],
      "metadata": {
        "id": "oNPL3cv3Ic4H"
      }
    },
    {
      "cell_type": "code",
      "source": [
        "a=int(input(\"enter the number a :\"))\n",
        "b=int(input(\"enter the number b :\"))\n",
        "print(a+b)\n",
        "print(a*b)\n",
        "print(a/b)\n",
        "print(a//b)\n",
        "print(a-b)\n",
        "print(a**b)\n",
        "print(a%b)"
      ],
      "metadata": {
        "colab": {
          "base_uri": "https://localhost:8080/"
        },
        "id": "7rsD11OoJxqF",
        "outputId": "399cfd5c-383a-4de9-c03b-2c5dc3cabd91"
      },
      "execution_count": 5,
      "outputs": [
        {
          "output_type": "stream",
          "name": "stdout",
          "text": [
            "enter the number a :48\n",
            "enter the number b :5\n",
            "53\n",
            "240\n",
            "9.6\n",
            "9\n",
            "43\n",
            "254803968\n",
            "3\n"
          ]
        }
      ]
    },
    {
      "cell_type": "markdown",
      "source": [
        "**Area of circle**"
      ],
      "metadata": {
        "id": "7nOe7WsKMTHv"
      }
    },
    {
      "cell_type": "code",
      "source": [
        "radius= float(input(\"enter the radius:\"))\n",
        "pi= 3.14\n",
        "area=pi*radius**2\n",
        "print(\"area of circle is\",area)\n"
      ],
      "metadata": {
        "colab": {
          "base_uri": "https://localhost:8080/"
        },
        "id": "lfCfbdMLMgHq",
        "outputId": "6ad81b98-d64f-48b2-bac1-e8cd576e7241"
      },
      "execution_count": 1,
      "outputs": [
        {
          "output_type": "stream",
          "name": "stdout",
          "text": [
            "enter the radius:7\n",
            "area of circle is 153.86\n"
          ]
        }
      ]
    },
    {
      "cell_type": "markdown",
      "source": [
        "**Temperture converter**"
      ],
      "metadata": {
        "id": "pYaswGvAN2ae"
      }
    },
    {
      "cell_type": "code",
      "source": [
        "celsius= float(input(\"Enter temparture in celsius\"))\n",
        "fahrenhit=(celsius*9/5)+32\n",
        "print(\"Temprature in Fahrenhit:\",fahrenhit)\n"
      ],
      "metadata": {
        "colab": {
          "base_uri": "https://localhost:8080/"
        },
        "id": "QQO8hqsMOB4b",
        "outputId": "a2194679-4457-46ee-ccb1-883e1ee10bb7"
      },
      "execution_count": 2,
      "outputs": [
        {
          "output_type": "stream",
          "name": "stdout",
          "text": [
            "Enter temparture in celsius25\n",
            "Temprature in Fahrenhit: 77.0\n"
          ]
        }
      ]
    },
    {
      "cell_type": "markdown",
      "source": [
        "**Simple Interest Calculator**"
      ],
      "metadata": {
        "id": "wRWcW_3dPtZN"
      }
    },
    {
      "cell_type": "code",
      "source": [
        "p= int(input(\"enter the p:\"))\n",
        "r= int(input(\"enter the r:\"))\n",
        "t= int(input(\"enter the t:\"))\n",
        "SI=(p*r*t)/100\n",
        "print(\"Simple Interer is\",SI)"
      ],
      "metadata": {
        "colab": {
          "base_uri": "https://localhost:8080/"
        },
        "id": "8BYnbWmFQhTh",
        "outputId": "08e462ac-8e3a-4e37-8957-29462b2b09de"
      },
      "execution_count": 4,
      "outputs": [
        {
          "output_type": "stream",
          "name": "stdout",
          "text": [
            "enter the p:4\n",
            "enter the r:6000\n",
            "enter the t:2\n",
            "Simple Interer is 480.0\n"
          ]
        }
      ]
    },
    {
      "cell_type": "markdown",
      "source": [
        "***Calculate area of a Perimeter and Rectangle***\n",
        "\n",
        " **Area of Rectangle**"
      ],
      "metadata": {
        "id": "zBLg4KTlTpIZ"
      }
    },
    {
      "cell_type": "code",
      "source": [
        "lenth=int(input(\"Enter the lenth:\"))\n",
        "breath=int(input(\"Enter the breath:\"))\n",
        "area=lenth*breath\n",
        "print(area)\n",
        "print(\"area of rectangle is\",+area)"
      ],
      "metadata": {
        "colab": {
          "base_uri": "https://localhost:8080/"
        },
        "id": "7hDNymEoUdD8",
        "outputId": "6987c053-091b-4a08-a20f-47101096b4be"
      },
      "execution_count": 5,
      "outputs": [
        {
          "output_type": "stream",
          "name": "stdout",
          "text": [
            "Enter the lenth:3\n",
            "Enter the breath:8\n",
            "24\n",
            "area of rectangle is 24\n"
          ]
        }
      ]
    },
    {
      "cell_type": "markdown",
      "source": [
        "**Area of Perimeter**"
      ],
      "metadata": {
        "id": "l9ANrdadViZg"
      }
    },
    {
      "cell_type": "code",
      "source": [
        "lenth=int(input(\"Enter the lenth:\"))\n",
        "breath=int(input(\"Enter the breath:\"))\n",
        "area=2*lenth*breath\n",
        "print(area)\n",
        "print(\"area of perimeter is\",+area)"
      ],
      "metadata": {
        "colab": {
          "base_uri": "https://localhost:8080/"
        },
        "id": "A_KzsT9fVp9p",
        "outputId": "2fa0d41b-ffdf-41e0-ef5a-72d63a68e186"
      },
      "execution_count": 6,
      "outputs": [
        {
          "output_type": "stream",
          "name": "stdout",
          "text": [
            "Enter the lenth:9\n",
            "Enter the breath:5\n",
            "90\n",
            "area of perimeter is 90\n"
          ]
        }
      ]
    },
    {
      "cell_type": "markdown",
      "source": [
        "**Convert Minutes to Hours and Minutes**\n",
        "\n"
      ],
      "metadata": {
        "id": "lkl532pWWYaZ"
      }
    },
    {
      "cell_type": "code",
      "source": [
        "minutes=int(input(\"Enter time in minutes\"))\n",
        "hours=minutes//60\n",
        "remaining_minutes=minutes%60\n",
        "print(f\"time:{hours}hours and {minutes}minutes\")"
      ],
      "metadata": {
        "colab": {
          "base_uri": "https://localhost:8080/"
        },
        "id": "3x8HZNb1XK6A",
        "outputId": "df8943b1-727a-422a-ab37-cb8ea3384023"
      },
      "execution_count": 9,
      "outputs": [
        {
          "output_type": "stream",
          "name": "stdout",
          "text": [
            "Enter time in minutes125\n",
            "time:2hours and 125minutes\n"
          ]
        }
      ]
    }
  ]
}