{
  "nbformat": 4,
  "nbformat_minor": 0,
  "metadata": {
    "colab": {
      "provenance": [],
      "authorship_tag": "ABX9TyNn9Fm/sj3NQPh/QeVw/5UZ",
      "include_colab_link": true
    },
    "kernelspec": {
      "name": "python3",
      "display_name": "Python 3"
    },
    "language_info": {
      "name": "python"
    }
  },
  "cells": [
    {
      "cell_type": "markdown",
      "metadata": {
        "id": "view-in-github",
        "colab_type": "text"
      },
      "source": [
        "<a href=\"https://colab.research.google.com/github/PushpaCS02/PushpaCS02/blob/main/day6.ipynb\" target=\"_parent\"><img src=\"https://colab.research.google.com/assets/colab-badge.svg\" alt=\"Open In Colab\"/></a>"
      ]
    },
    {
      "cell_type": "markdown",
      "source": [
        "**Creating and Class**"
      ],
      "metadata": {
        "id": "3G8iiIOEl2zX"
      }
    },
    {
      "cell_type": "code",
      "source": [
        "class Person:\n",
        "  def __init__(self,name,age):\n",
        "    self.name = name\n",
        "    self.age = age\n",
        "\n",
        "  def greet(self):\n",
        "      print(f\"Hello,my name is {self.name}and I am {self.age}years old.\")\n",
        "\n",
        "person1 = Person(\"Alice\",36)\n",
        "person1.greet()"
      ],
      "metadata": {
        "colab": {
          "base_uri": "https://localhost:8080/"
        },
        "id": "09HBAXAKmAO-",
        "outputId": "bb84822d-6edd-4c05-d5f5-b17ba995c192"
      },
      "execution_count": null,
      "outputs": [
        {
          "output_type": "stream",
          "name": "stdout",
          "text": [
            "Hello,my name is Aliceand I am 36years old.\n"
          ]
        }
      ]
    },
    {
      "cell_type": "markdown",
      "source": [
        "**Class Circle**"
      ],
      "metadata": {
        "id": "hfJ67X80n45G"
      }
    },
    {
      "cell_type": "code",
      "source": [
        "class Circle:\n",
        "  def __init__(self,radius):\n",
        "    self.radius = radius\n",
        "\n",
        "  # Indentation corrected to make area a method of the class\n",
        "  def area(self):\n",
        "    return 3.14*self.radius**2 # Corrected the formula to calculate area using radius squared\n",
        "\n",
        "circle1 = Circle(5)\n",
        "print(\"Area:\", circle1.area())"
      ],
      "metadata": {
        "colab": {
          "base_uri": "https://localhost:8080/"
        },
        "id": "BH69FS7_J0TQ",
        "outputId": "94b84fa6-5ec2-42f1-ad9f-c96557ffd472"
      },
      "execution_count": null,
      "outputs": [
        {
          "output_type": "stream",
          "name": "stdout",
          "text": [
            "Area: 78.5\n"
          ]
        }
      ]
    },
    {
      "cell_type": "markdown",
      "source": [
        "**Class Car**"
      ],
      "metadata": {
        "id": "Z0g4taU5q8Ge"
      }
    },
    {
      "cell_type": "code",
      "source": [
        "class car:\n",
        "  no_of_wheels = 0\n",
        "  mileage = 70\n",
        "  no_of_seats = 4\n",
        "\n",
        "  def moveforward(self):\n",
        "    print(\"moveing forward\")\n",
        "\n",
        "  def movebackward(self):\n",
        "    print(\"moving backward\")\n",
        "\n",
        "  def turnleft(self):\n",
        "    print(\"turning left\")\n",
        "\n",
        "  def turnrigth(self):\n",
        "    print(\"turning rigth\")\n",
        "\n",
        "car1 = car()\n",
        "print(car1.no_of_seats)\n",
        "print(car1.mileage)\n",
        "print(car1.no_of_wheels)\n",
        "\n",
        "\n",
        "car3 =car()\n",
        "car3.no_of_wheels = 10\n",
        "car3.mileage = 100\n",
        "car3.no_of_seats = 12\n",
        "print(car3.no_of_seats)\n",
        "print(car3.mileage)\n",
        "print(car3.no_of_wheels)"
      ],
      "metadata": {
        "colab": {
          "base_uri": "https://localhost:8080/"
        },
        "id": "ZETwofWJq82s",
        "outputId": "dbc06e20-8341-498b-a116-afa9d6c29623"
      },
      "execution_count": null,
      "outputs": [
        {
          "output_type": "stream",
          "name": "stdout",
          "text": [
            "4\n",
            "70\n",
            "0\n",
            "12\n",
            "100\n",
            "10\n"
          ]
        }
      ]
    },
    {
      "cell_type": "code",
      "source": [
        "car3 = car()\n",
        "print(car3.no_of_seats)\n",
        "print(car3.mileage)\n",
        "print(car3.no_of_wheels)\n"
      ],
      "metadata": {
        "colab": {
          "base_uri": "https://localhost:8080/"
        },
        "id": "rp6s9eKmt49c",
        "outputId": "7e0d5f98-3715-4e12-8371-d6573c1bb06a"
      },
      "execution_count": null,
      "outputs": [
        {
          "output_type": "stream",
          "name": "stdout",
          "text": [
            "4\n",
            "70\n",
            "0\n"
          ]
        }
      ]
    },
    {
      "cell_type": "markdown",
      "source": [
        "**Encapsulation**"
      ],
      "metadata": {
        "id": "n8v_DLgxzpfQ"
      }
    },
    {
      "cell_type": "code",
      "source": [
        "class Person:\n",
        "  def __init__(self,name,age):\n",
        "    self.name = name\n",
        "    self.age = age\n",
        "    self.__salary = 50000 # Changed self.salary to self.__salary to create the private attribute\n",
        "\n",
        "  def get_salary(self):\n",
        "    return self.__salary\n",
        "\n",
        "  def set_salary(self,new_salary):\n",
        "    if new_salary > 0:\n",
        "      self.__salary = new_salary\n",
        "    else:\n",
        "      print(\"Salary cannot be negative\")\n",
        "  def display_info(self):\n",
        "    print(f\"Name:{self.name},Age:{self.age},Salary:{self.__salary}\")\n",
        "person = Person(\"pushpa\",18)\n",
        "print(person.name)\n",
        "print(person.age)\n",
        "print(person.get_salary())\n",
        "person.set_salary(60000)\n",
        "person.display_info()"
      ],
      "metadata": {
        "colab": {
          "base_uri": "https://localhost:8080/"
        },
        "id": "c8Ry_pXwJsDp",
        "outputId": "e1ee29e2-b073-4f45-8392-cd9c78b57a48"
      },
      "execution_count": null,
      "outputs": [
        {
          "output_type": "stream",
          "name": "stdout",
          "text": [
            "pushpa\n",
            "18\n",
            "50000\n",
            "Name:pushpa,Age:18,Salary:60000\n"
          ]
        }
      ]
    },
    {
      "cell_type": "markdown",
      "source": [
        "**Inheritance**"
      ],
      "metadata": {
        "id": "UPuhbwvMF0_p"
      }
    },
    {
      "cell_type": "code",
      "source": [
        "class ParentClass:\n",
        "  def __init__(self,name):\n",
        "    self.name = name\n",
        "\n",
        "  def name1(self):\n",
        "    print(f\"Hello,my name is {self.name}\")\n",
        "\n",
        "class ChildClass(ParentClass):\n",
        "  def __init__(self,name,age):\n",
        "    super().__init__(name)\n",
        "    self.age = age\n",
        "\n",
        "  def age1(self):\n",
        "    print(f\"I am {self.age}years old.\")\n",
        "\n",
        "child = ChildClass(\"Alice\",12)\n",
        "child.name1()\n",
        "child.age1()"
      ],
      "metadata": {
        "colab": {
          "base_uri": "https://localhost:8080/"
        },
        "id": "Db2Yu6_VFyPL",
        "outputId": "2b9da782-fc32-4fae-fb6e-3990f3589563"
      },
      "execution_count": null,
      "outputs": [
        {
          "output_type": "stream",
          "name": "stdout",
          "text": [
            "Hello,my name is Alice\n",
            "I am 12years old.\n"
          ]
        }
      ]
    },
    {
      "cell_type": "markdown",
      "source": [
        "**Multiple Inheritance**"
      ],
      "metadata": {
        "id": "aUbbp--uKeQA"
      }
    },
    {
      "cell_type": "code",
      "source": [
        "class A:\n",
        "  def method1(self):\n",
        "    print(\"method1\")\n",
        "\n",
        "class B:\n",
        "  def method2(self):\n",
        "    print(\"method2\")\n",
        "\n",
        "class C(A,B):\n",
        "  pass\n",
        "\n",
        "obj = C()\n",
        "obj.method1()\n",
        "obj.method2()"
      ],
      "metadata": {
        "colab": {
          "base_uri": "https://localhost:8080/"
        },
        "id": "3viv_nFzKM2g",
        "outputId": "9d55fddb-30a8-403d-ca45-f8b0239fe03d"
      },
      "execution_count": null,
      "outputs": [
        {
          "output_type": "stream",
          "name": "stdout",
          "text": [
            "method1\n",
            "method2\n"
          ]
        }
      ]
    },
    {
      "cell_type": "markdown",
      "source": [
        "**Polymorphism**"
      ],
      "metadata": {
        "id": "wzewoW7Ac_E4"
      }
    },
    {
      "cell_type": "code",
      "source": [
        "class Bird:\n",
        "  def speak(self):\n",
        "    pass\n",
        "\n",
        "class Parrot(Bird):\n",
        "  def speak(self):\n",
        "    print(\"I mimic\")\n",
        "\n",
        "\n",
        "parrot = Parrot()\n",
        "parrot.speak()"
      ],
      "metadata": {
        "colab": {
          "base_uri": "https://localhost:8080/"
        },
        "id": "eupWvfAYfLR-",
        "outputId": "01309e0f-2266-4581-a258-96a92f443c8a"
      },
      "execution_count": 2,
      "outputs": [
        {
          "output_type": "stream",
          "name": "stdout",
          "text": [
            "I mimic\n"
          ]
        }
      ]
    }
  ]
}