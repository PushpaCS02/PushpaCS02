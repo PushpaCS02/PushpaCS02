{
  "nbformat": 4,
  "nbformat_minor": 0,
  "metadata": {
    "colab": {
      "provenance": [],
      "authorship_tag": "ABX9TyN31ysRybj5/1sokpgvKHgx",
      "include_colab_link": true
    },
    "kernelspec": {
      "name": "python3",
      "display_name": "Python 3"
    },
    "language_info": {
      "name": "python"
    }
  },
  "cells": [
    {
      "cell_type": "markdown",
      "metadata": {
        "id": "view-in-github",
        "colab_type": "text"
      },
      "source": [
        "<a href=\"https://colab.research.google.com/github/PushpaCS02/PushpaCS02/blob/main/day2.ipynb\" target=\"_parent\"><img src=\"https://colab.research.google.com/assets/colab-badge.svg\" alt=\"Open In Colab\"/></a>"
      ]
    },
    {
      "cell_type": "markdown",
      "source": [
        "**Conditional Statement**"
      ],
      "metadata": {
        "id": "kOmnFNwS0dE9"
      }
    },
    {
      "cell_type": "markdown",
      "source": [
        "**IF STATEMENT**"
      ],
      "metadata": {
        "id": "obN340uH1KHs"
      }
    },
    {
      "cell_type": "code",
      "source": [
        "age = 18\n",
        "if age >= 18:\n",
        "  print(\"you are eligible to vote.\")"
      ],
      "metadata": {
        "colab": {
          "base_uri": "https://localhost:8080/"
        },
        "id": "5PN_9iOE1Q5d",
        "outputId": "4c1c1a5f-bbed-41af-f197-8445edeeb397"
      },
      "execution_count": 1,
      "outputs": [
        {
          "output_type": "stream",
          "name": "stdout",
          "text": [
            "you are eligible to vote.\n"
          ]
        }
      ]
    },
    {
      "cell_type": "markdown",
      "source": [
        "** IF-ELSE STATEMENT**"
      ],
      "metadata": {
        "id": "XmbdIwDv2Np7"
      }
    },
    {
      "cell_type": "code",
      "source": [
        "num = int(input(\"Enter a number:\"))\n",
        "if num%2==0:\n",
        "  print(\"even number\")\n",
        "else:\n",
        "  print(\"odd number\")"
      ],
      "metadata": {
        "colab": {
          "base_uri": "https://localhost:8080/"
        },
        "id": "UqbAqRGK2gMM",
        "outputId": "b326da54-dc72-4357-9f3e-35fdfe0fcd31"
      },
      "execution_count": 3,
      "outputs": [
        {
          "output_type": "stream",
          "name": "stdout",
          "text": [
            "Enter a number:5\n",
            "odd number\n"
          ]
        }
      ]
    },
    {
      "cell_type": "markdown",
      "source": [
        "**IF-ELIF-ELSE STATEMENTS**"
      ],
      "metadata": {
        "id": "vRcS8dMR3PTr"
      }
    },
    {
      "cell_type": "code",
      "source": [
        "marks=int(input(\"Enter yur marks:\"))\n",
        "if marks >= 90:\n",
        "  print(\"Grade:A\")\n",
        "elif marks >= 75:\n",
        "  print(\"Grade:B\")\n",
        "elif marks >= 50:\n",
        "  print(\"Grade:C\")\n",
        "else:\n",
        "  print(\"Grade:F\")"
      ],
      "metadata": {
        "colab": {
          "base_uri": "https://localhost:8080/"
        },
        "id": "H7Uk_n3S3nxr",
        "outputId": "592e087c-10ec-489a-80a9-29cda1872144"
      },
      "execution_count": 9,
      "outputs": [
        {
          "output_type": "stream",
          "name": "stdout",
          "text": [
            "Enter yur marks:68\n",
            "Grade:C\n"
          ]
        }
      ]
    },
    {
      "cell_type": "markdown",
      "source": [
        "***FOR LOOPS***"
      ],
      "metadata": {
        "id": "3sDROz1G5x8V"
      }
    },
    {
      "cell_type": "code",
      "source": [
        "for i in range(5):\n",
        "  print(\"Inteation:\",i)"
      ],
      "metadata": {
        "colab": {
          "base_uri": "https://localhost:8080/"
        },
        "collapsed": true,
        "id": "Uj1hl9D8511J",
        "outputId": "b1cc2645-566f-46df-dc98-62d99e5a4d35"
      },
      "execution_count": 8,
      "outputs": [
        {
          "output_type": "stream",
          "name": "stdout",
          "text": [
            "Inteation: 0\n",
            "Inteation: 1\n",
            "Inteation: 2\n",
            "Inteation: 3\n",
            "Inteation: 4\n"
          ]
        }
      ]
    },
    {
      "cell_type": "code",
      "source": [
        "for i in range(5,10):\n",
        "  print(\"Inteation:\",i)"
      ],
      "metadata": {
        "colab": {
          "base_uri": "https://localhost:8080/"
        },
        "collapsed": true,
        "id": "ry4EdsHB6sXK",
        "outputId": "22d05fc8-ec38-4e7f-b20b-629cddafe529"
      },
      "execution_count": 10,
      "outputs": [
        {
          "output_type": "stream",
          "name": "stdout",
          "text": [
            "Inteation: 5\n",
            "Inteation: 6\n",
            "Inteation: 7\n",
            "Inteation: 8\n",
            "Inteation: 9\n"
          ]
        }
      ]
    },
    {
      "cell_type": "code",
      "source": [
        "for i in range(5,50,5):\n",
        "  print(\"Inteation:\",i)"
      ],
      "metadata": {
        "colab": {
          "base_uri": "https://localhost:8080/"
        },
        "collapsed": true,
        "id": "sDYZZX0r62bp",
        "outputId": "e77902e0-be0a-4cea-ca9a-877e407577ea"
      },
      "execution_count": 11,
      "outputs": [
        {
          "output_type": "stream",
          "name": "stdout",
          "text": [
            "Inteation: 5\n",
            "Inteation: 10\n",
            "Inteation: 15\n",
            "Inteation: 20\n",
            "Inteation: 25\n",
            "Inteation: 30\n",
            "Inteation: 35\n",
            "Inteation: 40\n",
            "Inteation: 45\n"
          ]
        }
      ]
    },
    {
      "cell_type": "markdown",
      "source": [
        "**WHILE STATEMENT**"
      ],
      "metadata": {
        "id": "DIdbt1Lu7TlR"
      }
    },
    {
      "cell_type": "code",
      "source": [
        "count = 0\n",
        "while count<5:\n",
        "  print(\"count\",count)\n",
        "  count+=1"
      ],
      "metadata": {
        "colab": {
          "base_uri": "https://localhost:8080/"
        },
        "id": "hNIOhLtq7cpp",
        "outputId": "0c17e46a-41ad-49a0-bb72-902803cdb647"
      },
      "execution_count": 12,
      "outputs": [
        {
          "output_type": "stream",
          "name": "stdout",
          "text": [
            "count 0\n",
            "count 1\n",
            "count 2\n",
            "count 3\n",
            "count 4\n"
          ]
        }
      ]
    },
    {
      "cell_type": "markdown",
      "source": [
        "**CONTROL FLOW  TOOLS**"
      ],
      "metadata": {
        "id": "kAyfZZze8msY"
      }
    },
    {
      "cell_type": "markdown",
      "source": [
        "*BREAK STATEMENT*"
      ],
      "metadata": {
        "id": "RsH0FeSw_XP2"
      }
    },
    {
      "cell_type": "code",
      "source": [
        "#break\n",
        "for i in range(10):\n",
        "  if i == 5:\n",
        "    break\n",
        "  print(i)"
      ],
      "metadata": {
        "colab": {
          "base_uri": "https://localhost:8080/"
        },
        "id": "QnbzMBo886-A",
        "outputId": "7c16ca56-8225-46f1-a4c3-6bd010329ad5"
      },
      "execution_count": 13,
      "outputs": [
        {
          "output_type": "stream",
          "name": "stdout",
          "text": [
            "0\n",
            "1\n",
            "2\n",
            "3\n",
            "4\n"
          ]
        }
      ]
    },
    {
      "cell_type": "markdown",
      "source": [
        "*CONTINUE STATEMENT*"
      ],
      "metadata": {
        "id": "LTjmDflm9aIA"
      }
    },
    {
      "cell_type": "code",
      "source": [
        "#CONTINUE STATEMENT\n",
        "for i in range(10):\n",
        "  if i == 5:\n",
        "    continue\n",
        "  print(i)"
      ],
      "metadata": {
        "colab": {
          "base_uri": "https://localhost:8080/"
        },
        "id": "32Q_ShBt9lkw",
        "outputId": "71ba4efb-d144-40ff-9e0d-eccf818fc7e6"
      },
      "execution_count": 14,
      "outputs": [
        {
          "output_type": "stream",
          "name": "stdout",
          "text": [
            "0\n",
            "1\n",
            "2\n",
            "3\n",
            "4\n",
            "6\n",
            "7\n",
            "8\n",
            "9\n"
          ]
        }
      ]
    },
    {
      "cell_type": "code",
      "source": [
        "#pass\n",
        "for i in range(10):\n",
        "  if i == 5:\n",
        "    pass\n",
        "  print(i)"
      ],
      "metadata": {
        "colab": {
          "base_uri": "https://localhost:8080/"
        },
        "id": "33Gkfk-a-nDW",
        "outputId": "07f8e673-f355-4d63-cb59-653729706f30"
      },
      "execution_count": 15,
      "outputs": [
        {
          "output_type": "stream",
          "name": "stdout",
          "text": [
            "0\n",
            "1\n",
            "2\n",
            "3\n",
            "4\n",
            "5\n",
            "6\n",
            "7\n",
            "8\n",
            "9\n"
          ]
        }
      ]
    },
    {
      "cell_type": "markdown",
      "source": [
        "***Sum of Number in Given Range***"
      ],
      "metadata": {
        "id": "0Kzudgq7C0sN"
      }
    },
    {
      "cell_type": "code",
      "source": [
        "start=int(input(\"Enter the start of the range:\"))\n",
        "end=int(input(\"Enter the end of the range:\"))\n",
        "sum=0\n",
        "for i in range(start,end+1):\n",
        "  sum+=i\n",
        "print(\"The sum is:\",sum)\n"
      ],
      "metadata": {
        "colab": {
          "base_uri": "https://localhost:8080/"
        },
        "id": "tu2DRHKODCmd",
        "outputId": "2ac5980a-0a4d-4125-eb4c-28cc447a6863"
      },
      "execution_count": 25,
      "outputs": [
        {
          "output_type": "stream",
          "name": "stdout",
          "text": [
            "Enter the start of the range:5\n",
            "Enter the end of the range:10\n",
            "The sum is: 45\n"
          ]
        }
      ]
    },
    {
      "cell_type": "markdown",
      "source": [
        "**FACTORIAL NUMBER**"
      ],
      "metadata": {
        "id": "8wJHw6_ePGs5"
      }
    },
    {
      "cell_type": "code",
      "source": [
        "number=int(input(\"Enter a number:\"))\n",
        "factorial = 1\n",
        "for i in range(1,number+1):\n",
        "  factorial *= i\n",
        "  print(\"The factorial is:\",factorial)"
      ],
      "metadata": {
        "colab": {
          "base_uri": "https://localhost:8080/"
        },
        "id": "mS4I4GnCFBED",
        "outputId": "a7920ded-fc0d-4c2a-c83a-0d8ab08d127b"
      },
      "execution_count": 6,
      "outputs": [
        {
          "output_type": "stream",
          "name": "stdout",
          "text": [
            "Enter a number:5\n",
            "The factorial is: 1\n",
            "The factorial is: 2\n",
            "The factorial is: 6\n",
            "The factorial is: 24\n",
            "The factorial is: 120\n"
          ]
        }
      ]
    },
    {
      "cell_type": "markdown",
      "source": [
        "Fibonacci Sequence"
      ],
      "metadata": {
        "id": "4cS3piqDIszy"
      }
    },
    {
      "cell_type": "code",
      "source": [
        "n = int(input(\"Enter the number of terms:\"))\n",
        "a,b =0,1\n",
        "for i in range(n):\n",
        "  print(a,end=\" \")\n",
        "  a,b =b,a+b"
      ],
      "metadata": {
        "colab": {
          "base_uri": "https://localhost:8080/"
        },
        "id": "sNMuvFIbH5L6",
        "outputId": "16f2b3be-d4b2-409d-8260-6d078523105a"
      },
      "execution_count": 8,
      "outputs": [
        {
          "output_type": "stream",
          "name": "stdout",
          "text": [
            "Enter the number of terms:7\n",
            "0 1 1 2 3 5 8 "
          ]
        }
      ]
    },
    {
      "cell_type": "markdown",
      "source": [
        "**Simple Calculation Using if-elif**"
      ],
      "metadata": {
        "id": "EQjYymPxUoFB"
      }
    },
    {
      "cell_type": "code",
      "source": [
        "num1= float(input(\"Enter First number:\"))\n",
        "num2= float(input(\"Enter Second number:\"))\n",
        "operation = input(\"Enter operation (+,-,*,/,//,**,%):\")\n",
        "if operation == '+':\n",
        "  print(\"Result:\", num1+num2)\n",
        "elif operation == '-':\n",
        "    print(\"Result:\", num1-num2)\n",
        "elif operation == '*':\n",
        "    print(\"Result:\", num1*num2)\n",
        "elif operation == '/':\n",
        "    print(\"Result:\", num1/num2)\n",
        "elif operation == '//':\n",
        "    print(\"Result:\", num1//num2)\n",
        "elif operation == '**':\n",
        "  print(\"Result:\", num1**num2)\n",
        "elif operation == '%':\n",
        "  print(\"Result:\", num1%num2)\n",
        "else:\n",
        "  print(\"Innvalid  operation\")\n"
      ],
      "metadata": {
        "colab": {
          "base_uri": "https://localhost:8080/"
        },
        "id": "SguurguzU0bR",
        "outputId": "2846befc-844c-44ca-9c11-01e72052572d"
      },
      "execution_count": 3,
      "outputs": [
        {
          "output_type": "stream",
          "name": "stdout",
          "text": [
            "Enter First number:8\n",
            "Enter Second number:5\n",
            "Enter operation (+,-,*,/,//,**,%):*\n",
            "Result: 40.0\n"
          ]
        }
      ]
    },
    {
      "cell_type": "markdown",
      "source": [
        "**CHEAK LEAP YEAR**"
      ],
      "metadata": {
        "id": "MWYpAqGadzBN"
      }
    },
    {
      "cell_type": "code",
      "source": [
        "year=int(input(\"Enter a year:\"))\n",
        "if (year%4== 0 and year%100!=0) or (year%400==0):\n",
        "  print(\"Leap year\")\n",
        "else:\n",
        "  print(\"Not a Leap year\")"
      ],
      "metadata": {
        "colab": {
          "base_uri": "https://localhost:8080/"
        },
        "id": "gFzu4DKbd7qU",
        "outputId": "cfa03be1-cdb3-4c95-c9cf-e45945d1954f"
      },
      "execution_count": 11,
      "outputs": [
        {
          "output_type": "stream",
          "name": "stdout",
          "text": [
            "Enter a year:2020\n",
            "Leap year\n"
          ]
        }
      ]
    },
    {
      "cell_type": "markdown",
      "source": [
        "**Find the Laragest of Three Numbers**\n"
      ],
      "metadata": {
        "id": "zRniXl0Nge-b"
      }
    },
    {
      "cell_type": "code",
      "source": [
        "num1 = float(input (\"Enter first number:\"))\n",
        "num2 = float(input(\"Enter second number:\"))\n",
        "num3 = float(input(\"Enter third number:\"))\n",
        "if num1 >= num2 and num1 >= num3:\n",
        "  print(\"Laregest number is:\", num1)\n",
        "elif num2 >= num3 and num2 >= num1:\n",
        "   print(\"Laregest number is:\", num2)\n",
        "else:\n",
        "  print(\"Laregest number is:\", num3)"
      ],
      "metadata": {
        "colab": {
          "base_uri": "https://localhost:8080/"
        },
        "id": "O0M_w4uKgrw6",
        "outputId": "253e7e11-0807-451a-a0cd-9d91a5dba694"
      },
      "execution_count": 7,
      "outputs": [
        {
          "output_type": "stream",
          "name": "stdout",
          "text": [
            "Enter first number:6 \n",
            "Enter second number:4\n",
            "Enter third number:18\n",
            "Laregest number is: 18.0\n"
          ]
        }
      ]
    },
    {
      "cell_type": "markdown",
      "source": [
        "**Find Positive and Negative Number**\n"
      ],
      "metadata": {
        "id": "HvHAfE0wialx"
      }
    },
    {
      "cell_type": "code",
      "source": [
        "a = int(input(\"Enter a number\"))\n",
        "if a>0:\n",
        "  print(\"positive\")\n",
        "elif a<0:\n",
        "  print(\"negative\")\n",
        "else:\n",
        "  print(\"zero\")"
      ],
      "metadata": {
        "colab": {
          "base_uri": "https://localhost:8080/"
        },
        "id": "_hx31tYOi3Ua",
        "outputId": "2b69cde2-c9fa-4d46-ec4a-a046327420f2"
      },
      "execution_count": 10,
      "outputs": [
        {
          "output_type": "stream",
          "name": "stdout",
          "text": [
            "Enter a number5\n",
            "positive\n"
          ]
        }
      ]
    },
    {
      "cell_type": "markdown",
      "source": [
        "Sum of All Even Number in a Range"
      ],
      "metadata": {
        "id": "43gwkhUPj5yB"
      }
    },
    {
      "cell_type": "code",
      "source": [
        "start = int(input(\"Enter start of range:\"))\n",
        "end = int (input(\"Enter end of range:\"))\n",
        "even_sum = 0\n",
        "for num in range(start, end+1):\n",
        "  if num % 2 == 0:\n",
        "    even_sum+=num\n",
        "  print(\"Sum of even  numbers:\", even_sum)"
      ],
      "metadata": {
        "colab": {
          "base_uri": "https://localhost:8080/"
        },
        "id": "45zb_TuukJ8w",
        "outputId": "5be3088b-2842-4dfb-cd2d-9fc76305731e"
      },
      "execution_count": 7,
      "outputs": [
        {
          "output_type": "stream",
          "name": "stdout",
          "text": [
            "Enter start of range:2\n",
            "Enter end of range:10\n",
            "Sum of even  numbers: 2\n",
            "Sum of even  numbers: 2\n",
            "Sum of even  numbers: 6\n",
            "Sum of even  numbers: 6\n",
            "Sum of even  numbers: 12\n",
            "Sum of even  numbers: 12\n",
            "Sum of even  numbers: 20\n",
            "Sum of even  numbers: 20\n",
            "Sum of even  numbers: 30\n"
          ]
        }
      ]
    }
  ]
}