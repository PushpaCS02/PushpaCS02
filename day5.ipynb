{
  "nbformat": 4,
  "nbformat_minor": 0,
  "metadata": {
    "colab": {
      "provenance": [],
      "authorship_tag": "ABX9TyNYE5y+Yy0N4YRfbkEWdpim",
      "include_colab_link": true
    },
    "kernelspec": {
      "name": "python3",
      "display_name": "Python 3"
    },
    "language_info": {
      "name": "python"
    }
  },
  "cells": [
    {
      "cell_type": "markdown",
      "metadata": {
        "id": "view-in-github",
        "colab_type": "text"
      },
      "source": [
        "<a href=\"https://colab.research.google.com/github/PushpaCS02/PushpaCS02/blob/main/day5.ipynb\" target=\"_parent\"><img src=\"https://colab.research.google.com/assets/colab-badge.svg\" alt=\"Open In Colab\"/></a>"
      ]
    },
    {
      "cell_type": "markdown",
      "source": [
        "**File Handling**"
      ],
      "metadata": {
        "id": "j1gj1Z4SjTL1"
      }
    },
    {
      "cell_type": "markdown",
      "source": [
        "File Operations"
      ],
      "metadata": {
        "id": "J2K3nRmnjcqW"
      }
    },
    {
      "cell_type": "code",
      "source": [
        "#opening a file\n",
        "file = open(\"/content/pushpa.txt\",\"r\")\n"
      ],
      "metadata": {
        "id": "6jCvp1xTjYEf"
      },
      "execution_count": 1,
      "outputs": []
    },
    {
      "cell_type": "markdown",
      "source": [
        "**Modes**"
      ],
      "metadata": {
        "id": "mId7lO1xmFl3"
      }
    },
    {
      "cell_type": "code",
      "source": [
        "#read\n",
        "file = open(\"/content/pushpa.txt\",\"r\")\n",
        "content = file.read()\n",
        "print(content)\n",
        "file.close()\n"
      ],
      "metadata": {
        "colab": {
          "base_uri": "https://localhost:8080/"
        },
        "id": "SGMxziATmNTw",
        "outputId": "1e0c9317-c185-4004-be43-4f215d7238ae"
      },
      "execution_count": 2,
      "outputs": [
        {
          "output_type": "stream",
          "name": "stdout",
          "text": [
            "Good morning pushpa\n",
            "\n"
          ]
        }
      ]
    },
    {
      "cell_type": "code",
      "source": [
        "#readline()\n",
        "file = open(\"/content/pushpa.txt\",\"r\")\n",
        "content = file.readline()\n",
        "print(content)\n",
        "file.close()"
      ],
      "metadata": {
        "colab": {
          "base_uri": "https://localhost:8080/"
        },
        "id": "a8U-t5vSn-T7",
        "outputId": "ddd624f3-ce3b-4735-d90b-44e4a2629e17"
      },
      "execution_count": 3,
      "outputs": [
        {
          "output_type": "stream",
          "name": "stdout",
          "text": [
            "Good morning pushpa\n",
            "\n"
          ]
        }
      ]
    },
    {
      "cell_type": "code",
      "source": [
        "#readlines()\n",
        "file = open(\"/content/pushpa.txt\",\"r\")\n",
        "content = file.readlines()\n",
        "print(content)\n",
        "file.close()\n"
      ],
      "metadata": {
        "colab": {
          "base_uri": "https://localhost:8080/"
        },
        "id": "_fUl9aafo9WY",
        "outputId": "b339e523-0689-459a-8137-fb49b1139ac2"
      },
      "execution_count": 4,
      "outputs": [
        {
          "output_type": "stream",
          "name": "stdout",
          "text": [
            "['hello , pushpa \\n', 'from shri devi institute of endinrrring and technology\\n', 'cse student']\n"
          ]
        }
      ]
    },
    {
      "cell_type": "markdown",
      "source": [
        "**Writinng to a File**"
      ],
      "metadata": {
        "id": "hLSyB8_onFUd"
      }
    },
    {
      "cell_type": "code",
      "source": [
        "#Writing ()\n",
        "file = open(\"/content/pushpa.txt\",\"w\")\n",
        "file.write(\"The is pushpa\\n\")\n",
        "file.close()"
      ],
      "metadata": {
        "id": "0FCtuDL7m7Nd"
      },
      "execution_count": 4,
      "outputs": []
    },
    {
      "cell_type": "markdown",
      "source": [
        "**Appending to a file**"
      ],
      "metadata": {
        "id": "_Qf0GvjgpjS4"
      }
    },
    {
      "cell_type": "code",
      "source": [
        "file = open(\"/content/pushpa.txt\",\"a\")\n",
        "file.write(\"Good morning pushpa\\n\")\n",
        "file.close()"
      ],
      "metadata": {
        "id": "konjDIcnuN2q"
      },
      "execution_count": 5,
      "outputs": []
    },
    {
      "cell_type": "markdown",
      "source": [
        "**Using 'with' Statement**"
      ],
      "metadata": {
        "id": "SsAALFceuinz"
      }
    },
    {
      "cell_type": "code",
      "source": [
        "with open(\"/content/pushpa.txt\",\"r\") as file:\n",
        "  content = file.read()\n",
        "  print(content)"
      ],
      "metadata": {
        "colab": {
          "base_uri": "https://localhost:8080/"
        },
        "id": "QXqLevQZuwFz",
        "outputId": "0659d5b2-ef76-45ff-b670-87cf47b07994"
      },
      "execution_count": 6,
      "outputs": [
        {
          "output_type": "stream",
          "name": "stdout",
          "text": [
            "The is pushpa\n",
            "Good morning pushpa\n",
            "\n"
          ]
        }
      ]
    },
    {
      "cell_type": "markdown",
      "source": [
        "**File Handling Mode**"
      ],
      "metadata": {
        "id": "je6-4E4Mvgnl"
      }
    },
    {
      "cell_type": "code",
      "source": [
        "#Binary a file\n",
        "with open(\"/content/pushpa.txt\",\"rb\") as file:\n",
        "  data = file.read()"
      ],
      "metadata": {
        "id": "1YNS25S_vx0N"
      },
      "execution_count": 7,
      "outputs": []
    },
    {
      "cell_type": "markdown",
      "source": [
        "**Error Handling**"
      ],
      "metadata": {
        "id": "XQLtueKhygQ1"
      }
    },
    {
      "cell_type": "markdown",
      "source": [
        "**Try-Except Block**"
      ],
      "metadata": {
        "id": "op98Xd-lz-5G"
      }
    },
    {
      "cell_type": "code",
      "source": [
        "try:\n",
        "  num = int(input(\"enter a number:\"))\n",
        "  print(10/num)\n",
        "except ZeroDivisionError:\n",
        "  print(\"Cannot divide by zero\")\n",
        "except ValueError:\n",
        "  print(\"Invalid input! Please enter a valid number\")"
      ],
      "metadata": {
        "colab": {
          "base_uri": "https://localhost:8080/"
        },
        "id": "uhJIBbQmze0G",
        "outputId": "099b8986-c798-4488-cc42-d02ca328428d"
      },
      "execution_count": 8,
      "outputs": [
        {
          "output_type": "stream",
          "name": "stdout",
          "text": [
            "enter a number:0\n",
            "Cannot divide by zero\n"
          ]
        }
      ]
    },
    {
      "cell_type": "markdown",
      "source": [
        "**Raising Exceptions**"
      ],
      "metadata": {
        "id": "HnDUTKdd8YGS"
      }
    },
    {
      "cell_type": "code",
      "source": [
        "def check_age(age):\n",
        "  if age <18:\n",
        "    raise ValueError(\"Age must be 18 or older\")\n",
        "    return True\n",
        "try:\n",
        "  check_age(17)\n",
        "except ValueError as e:\n",
        "  print(e)"
      ],
      "metadata": {
        "colab": {
          "base_uri": "https://localhost:8080/"
        },
        "id": "ZAu8hcdA8hvp",
        "outputId": "bea1fc4b-3719-4eb3-de39-b6d5149f836b"
      },
      "execution_count": 9,
      "outputs": [
        {
          "output_type": "stream",
          "name": "stdout",
          "text": [
            "Age must be 18 or older\n"
          ]
        }
      ]
    },
    {
      "cell_type": "markdown",
      "source": [
        "**Reading and Writing to a File**"
      ],
      "metadata": {
        "id": "ssVawgi_9bxj"
      }
    },
    {
      "cell_type": "code",
      "source": [
        "with open(\"/content/pushpa.txt\",\"w\")as file:\n",
        "  file.write(\"Good morning pushpa\\n\")"
      ],
      "metadata": {
        "id": "3GEPmc2o9ny0"
      },
      "execution_count": 17,
      "outputs": []
    },
    {
      "cell_type": "code",
      "source": [
        "with open(\"/content/pushpa.txt\",\"r\") as flie: # The file object is assigned to 'flie'\n",
        "  print(flie.read()) # Use 'flie' to read the file content"
      ],
      "metadata": {
        "colab": {
          "base_uri": "https://localhost:8080/"
        },
        "id": "pSlAnkkwAXl1",
        "outputId": "2b7c02b0-8b2a-4348-9212-3165a30e8150"
      },
      "execution_count": 19,
      "outputs": [
        {
          "output_type": "stream",
          "name": "stdout",
          "text": [
            "Good morning pushpa\n",
            "\n"
          ]
        }
      ]
    },
    {
      "cell_type": "code",
      "source": [
        "#Appending Data to a file\n",
        "with open(\"/content/pushpa.txt\",\"a\")as file:\n",
        "  file.write(\"cse studen\\n\")"
      ],
      "metadata": {
        "id": "L4VMgGJjAkFh"
      },
      "execution_count": 20,
      "outputs": []
    },
    {
      "cell_type": "code",
      "source": [
        "with open(\"/content/pushpa.txt\",\"r\")as file:\n",
        "  print(file.read())"
      ],
      "metadata": {
        "colab": {
          "base_uri": "https://localhost:8080/"
        },
        "id": "ndXFJwU2A_BF",
        "outputId": "38d83d0c-04e7-423e-e2fd-cfd23929375e"
      },
      "execution_count": 21,
      "outputs": [
        {
          "output_type": "stream",
          "name": "stdout",
          "text": [
            "Good morning pushpa\n",
            "cse studen\n",
            "\n"
          ]
        }
      ]
    },
    {
      "cell_type": "markdown",
      "source": [
        "**Creating a Custom Exception**"
      ],
      "metadata": {
        "id": "f8nCpNnSBYM2"
      }
    },
    {
      "cell_type": "code",
      "source": [
        "class NegativeNumberError(Exception):\n",
        "  pass\n",
        "\n",
        "def check_positive(num):\n",
        "  if num <0:\n",
        "    raise NagativeNumberError(\"Number canot be negative.\")\n",
        "try:\n",
        "  num = int(input(\"Enter a positive number:\"))\n",
        "  check_positive(num)\n",
        "  print(\"Tou entered a positive number.\")\n",
        "except NegativeNumberError as e:\n",
        "  print(e)\n"
      ],
      "metadata": {
        "colab": {
          "base_uri": "https://localhost:8080/"
        },
        "id": "4NzAghfABVQd",
        "outputId": "f5de13e5-081c-4edb-c6e5-95c02d6ad212"
      },
      "execution_count": 23,
      "outputs": [
        {
          "output_type": "stream",
          "name": "stdout",
          "text": [
            "Enter a positive number:5\n",
            "Tou entered a positive number.\n"
          ]
        }
      ]
    }
  ]
}