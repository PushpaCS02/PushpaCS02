{
  "nbformat": 4,
  "nbformat_minor": 0,
  "metadata": {
    "colab": {
      "provenance": [],
      "authorship_tag": "ABX9TyPuAeOKmvmMKG+M35cPO602",
      "include_colab_link": true
    },
    "kernelspec": {
      "name": "python3",
      "display_name": "Python 3"
    },
    "language_info": {
      "name": "python"
    }
  },
  "cells": [
    {
      "cell_type": "markdown",
      "metadata": {
        "id": "view-in-github",
        "colab_type": "text"
      },
      "source": [
        "<a href=\"https://colab.research.google.com/github/PushpaCS02/PushpaCS02/blob/main/day5.ipynb\" target=\"_parent\"><img src=\"https://colab.research.google.com/assets/colab-badge.svg\" alt=\"Open In Colab\"/></a>"
      ]
    },
    {
      "cell_type": "markdown",
      "source": [
        "**File Handling**"
      ],
      "metadata": {
        "id": "j1gj1Z4SjTL1"
      }
    },
    {
      "cell_type": "markdown",
      "source": [
        "File Operations"
      ],
      "metadata": {
        "id": "J2K3nRmnjcqW"
      }
    },
    {
      "cell_type": "code",
      "source": [
        "#opening a file\n",
        "file = open(\"/content/pushpa.txt\",\"r\")\n"
      ],
      "metadata": {
        "id": "6jCvp1xTjYEf"
      },
      "execution_count": null,
      "outputs": []
    },
    {
      "cell_type": "markdown",
      "source": [
        "**Modes**"
      ],
      "metadata": {
        "id": "mId7lO1xmFl3"
      }
    },
    {
      "cell_type": "code",
      "source": [
        "#read\n",
        "file = open(\"/content/pushpa.txt\",\"r\")\n",
        "content = file.read()\n",
        "print(content)\n",
        "file.close()\n"
      ],
      "metadata": {
        "colab": {
          "base_uri": "https://localhost:8080/"
        },
        "id": "SGMxziATmNTw",
        "outputId": "a28ba850-47b9-4975-b4d6-512deb0b2d6f"
      },
      "execution_count": null,
      "outputs": [
        {
          "output_type": "stream",
          "name": "stdout",
          "text": [
            "hello , pushpa \n",
            "from shri devi institute of endinrrring and technology\n",
            "cse student\n"
          ]
        }
      ]
    },
    {
      "cell_type": "code",
      "source": [
        "#readline()\n",
        "file = open(\"/content/pushpa.txt\",\"r\")\n",
        "content = file.readline()\n",
        "print(content)\n",
        "file.close()"
      ],
      "metadata": {
        "colab": {
          "base_uri": "https://localhost:8080/"
        },
        "id": "a8U-t5vSn-T7",
        "outputId": "95342d08-3366-4e00-b3c9-46e52c6f62ca"
      },
      "execution_count": null,
      "outputs": [
        {
          "output_type": "stream",
          "name": "stdout",
          "text": [
            "hello , pushpa \n",
            "\n"
          ]
        }
      ]
    },
    {
      "cell_type": "code",
      "source": [
        "#readlines()\n",
        "file = open(\"/content/pushpa.txt\",\"r\")\n",
        "content = file.readlines()\n",
        "print(content)\n",
        "file.close()\n"
      ],
      "metadata": {
        "colab": {
          "base_uri": "https://localhost:8080/"
        },
        "id": "_fUl9aafo9WY",
        "outputId": "b2bfb926-9bf2-4ca3-8989-10bed5e363eb"
      },
      "execution_count": null,
      "outputs": [
        {
          "output_type": "stream",
          "name": "stdout",
          "text": [
            "['hello , pushpa \\n', 'from shri devi institute of endinrrring and technology\\n', 'cse student']\n"
          ]
        }
      ]
    },
    {
      "cell_type": "markdown",
      "source": [
        "**Writinng to a File**"
      ],
      "metadata": {
        "id": "hLSyB8_onFUd"
      }
    },
    {
      "cell_type": "code",
      "source": [
        "#Writing ()\n",
        "file = open(\"/content/pushpa.txt\",\"w\")\n",
        "file.write(\"The is pushpa\\n\")\n",
        "file.close()"
      ],
      "metadata": {
        "id": "0FCtuDL7m7Nd"
      },
      "execution_count": null,
      "outputs": []
    },
    {
      "cell_type": "markdown",
      "source": [
        "**Appending to a file**"
      ],
      "metadata": {
        "id": "_Qf0GvjgpjS4"
      }
    },
    {
      "cell_type": "code",
      "source": [
        "file = open(\"/content/pushpa.txt\",\"a\")\n",
        "file.write(\"Good morning pushpa\\n\")\n",
        "file.close()"
      ],
      "metadata": {
        "id": "konjDIcnuN2q"
      },
      "execution_count": null,
      "outputs": []
    },
    {
      "cell_type": "markdown",
      "source": [
        "**Using 'with' Statement**"
      ],
      "metadata": {
        "id": "SsAALFceuinz"
      }
    },
    {
      "cell_type": "code",
      "source": [
        "with open(\"/content/pushpa.txt\",\"r\") as file:\n",
        "  content = file.read()\n",
        "  print(content)"
      ],
      "metadata": {
        "colab": {
          "base_uri": "https://localhost:8080/"
        },
        "id": "QXqLevQZuwFz",
        "outputId": "9710e137-ba1f-4e7f-b53c-0605652ffce3"
      },
      "execution_count": null,
      "outputs": [
        {
          "output_type": "stream",
          "name": "stdout",
          "text": [
            "The is pushpa\n",
            "Good morning pushpa\n",
            "\n"
          ]
        }
      ]
    },
    {
      "cell_type": "markdown",
      "source": [
        "**File Handling Mode**"
      ],
      "metadata": {
        "id": "je6-4E4Mvgnl"
      }
    },
    {
      "cell_type": "code",
      "source": [
        "#Binary a file\n",
        "with open(\"/content/pushpa.txt\",\"rb\") as file:\n",
        "  data = file.read()"
      ],
      "metadata": {
        "id": "1YNS25S_vx0N"
      },
      "execution_count": null,
      "outputs": []
    },
    {
      "cell_type": "markdown",
      "source": [
        "**Error Handling**"
      ],
      "metadata": {
        "id": "XQLtueKhygQ1"
      }
    },
    {
      "cell_type": "markdown",
      "source": [
        "**Try-Except Block**"
      ],
      "metadata": {
        "id": "op98Xd-lz-5G"
      }
    },
    {
      "cell_type": "code",
      "source": [
        "try:\n",
        "  num = int(input(\"enter a number:\"))\n",
        "  print(10/num)\n",
        "except ZeroDivisionError:\n",
        "  print(\"Cannot divide by zero\")\n",
        "except ValueError:\n",
        "  print(\"Invalid input! Please enter a valid number\")"
      ],
      "metadata": {
        "colab": {
          "base_uri": "https://localhost:8080/"
        },
        "id": "uhJIBbQmze0G",
        "outputId": "f57e28e5-dee9-4b1c-f588-71d1afb2fc51"
      },
      "execution_count": null,
      "outputs": [
        {
          "output_type": "stream",
          "name": "stdout",
          "text": [
            "enter a number:0\n",
            "Cannot divide by zero\n"
          ]
        }
      ]
    },
    {
      "cell_type": "markdown",
      "source": [
        "**Raising Exceptions**"
      ],
      "metadata": {
        "id": "HnDUTKdd8YGS"
      }
    },
    {
      "cell_type": "code",
      "source": [
        "def check_age(age):\n",
        "  if age <18:\n",
        "    raise ValueError(\"Age must be 18 or older\")\n",
        "    return True\n",
        "try:\n",
        "  check_age(17)\n",
        "except ValueError as e:\n",
        "  print(e)"
      ],
      "metadata": {
        "colab": {
          "base_uri": "https://localhost:8080/"
        },
        "id": "ZAu8hcdA8hvp",
        "outputId": "295332f9-a365-4773-bcf4-56f75081b0fe"
      },
      "execution_count": null,
      "outputs": [
        {
          "output_type": "stream",
          "name": "stdout",
          "text": [
            "Age must be 18 or older\n"
          ]
        }
      ]
    },
    {
      "cell_type": "markdown",
      "source": [
        "**Reading and Writing to a File**"
      ],
      "metadata": {
        "id": "ssVawgi_9bxj"
      }
    },
    {
      "cell_type": "code",
      "source": [
        "with open(\"/content/pushpa.txt\",\"w\")as file:\n",
        "  file.write(\"Good morning pushpa\\n\")"
      ],
      "metadata": {
        "id": "3GEPmc2o9ny0"
      },
      "execution_count": null,
      "outputs": []
    },
    {
      "cell_type": "code",
      "source": [
        "with open(\"/content/pushpa.txt\",\"r\") as flie: # The file object is assigned to 'flie'\n",
        "  print(flie.read()) # Use 'flie' to read the file content"
      ],
      "metadata": {
        "colab": {
          "base_uri": "https://localhost:8080/"
        },
        "id": "pSlAnkkwAXl1",
        "outputId": "a2480d4f-b0bc-4751-8dbb-75bd413a0b21"
      },
      "execution_count": null,
      "outputs": [
        {
          "output_type": "stream",
          "name": "stdout",
          "text": [
            "Good morning pushpa\n",
            "\n"
          ]
        }
      ]
    },
    {
      "cell_type": "code",
      "source": [
        "#Appending Data to a file\n",
        "with open(\"/content/pushpa.txt\",\"a\")as file:\n",
        "  file.write(\"cse studen\\n\")"
      ],
      "metadata": {
        "id": "L4VMgGJjAkFh"
      },
      "execution_count": null,
      "outputs": []
    },
    {
      "cell_type": "code",
      "source": [
        "with open(\"/content/pushpa.txt\",\"r\")as file:\n",
        "  print(file.read())"
      ],
      "metadata": {
        "colab": {
          "base_uri": "https://localhost:8080/"
        },
        "id": "ndXFJwU2A_BF",
        "outputId": "fb2620e5-b2e9-4004-aaa2-b74139325530"
      },
      "execution_count": null,
      "outputs": [
        {
          "output_type": "stream",
          "name": "stdout",
          "text": [
            "Good morning pushpa\n",
            "cse studen\n",
            "\n"
          ]
        }
      ]
    },
    {
      "cell_type": "markdown",
      "source": [
        "**Creating a Custom Exception**"
      ],
      "metadata": {
        "id": "f8nCpNnSBYM2"
      }
    },
    {
      "cell_type": "code",
      "source": [
        "class NegativeNumberError(Exception):\n",
        "  pass\n",
        "\n",
        "def check_positive(num):\n",
        "  if num <0:\n",
        "    raise NagativeNumberError(\"Number canot be negative.\")\n",
        "try:\n",
        "  num = int(input(\"Enter a positive number:\"))\n",
        "  check_positive(num)\n",
        "  print(\"Tou entered a positive number.\")\n",
        "except NegativeNumberError as e:\n",
        "  print(e)\n"
      ],
      "metadata": {
        "colab": {
          "base_uri": "https://localhost:8080/"
        },
        "id": "4NzAghfABVQd",
        "outputId": "a454c5e7-066e-4898-bed0-d72593f8d2e7"
      },
      "execution_count": null,
      "outputs": [
        {
          "output_type": "stream",
          "name": "stdout",
          "text": [
            "Enter a positive number:5\n",
            "Tou entered a positive number.\n"
          ]
        }
      ]
    },
    {
      "cell_type": "markdown",
      "source": [
        "**Create and Write to a File**\n"
      ],
      "metadata": {
        "id": "rb_y1g49XOJz"
      }
    },
    {
      "cell_type": "code",
      "source": [
        "with open(\"data.tax\", \"w\") as file:\n",
        "   file.write(\"Hello, World!\")"
      ],
      "metadata": {
        "id": "8H17IuNIWraD"
      },
      "execution_count": null,
      "outputs": []
    },
    {
      "cell_type": "markdown",
      "source": [
        "**Read from a file**"
      ],
      "metadata": {
        "id": "Cidb6QLhXlsd"
      }
    },
    {
      "cell_type": "code",
      "source": [
        "with open(\"/content/data.tax\", \"r\") as file:\n",
        "    contents = file.read()\n",
        "    print(contents)"
      ],
      "metadata": {
        "colab": {
          "base_uri": "https://localhost:8080/"
        },
        "id": "TFXdzrmeX9ED",
        "outputId": "5bd983c0-df2b-4f35-ec76-a4cfdfbc1469"
      },
      "execution_count": null,
      "outputs": [
        {
          "output_type": "stream",
          "name": "stdout",
          "text": [
            "Hello, World!\n"
          ]
        }
      ]
    },
    {
      "cell_type": "markdown",
      "source": [
        "Append to a File"
      ],
      "metadata": {
        "id": "dV8MZ9DUY4qE"
      }
    },
    {
      "cell_type": "code",
      "source": [
        "with open(\"/content/data.tax\", \"a\") as file:\n",
        "    file.write(\"\\nWelcome to Python programming!\")\n",
        "\n"
      ],
      "metadata": {
        "id": "A2U-GPCwY0pF"
      },
      "execution_count": null,
      "outputs": []
    },
    {
      "cell_type": "markdown",
      "source": [
        "random number"
      ],
      "metadata": {
        "id": "ZSkqWGqBY_D7"
      }
    },
    {
      "cell_type": "code",
      "source": [
        "import random\n",
        "random_number = random.randint(1,6)\n",
        "print(\"The random number is:\",random_number )"
      ],
      "metadata": {
        "colab": {
          "base_uri": "https://localhost:8080/"
        },
        "id": "n8UH4Gy4ZGgL",
        "outputId": "e9bf1848-4976-4549-de86-09dd11b9f688"
      },
      "execution_count": null,
      "outputs": [
        {
          "output_type": "stream",
          "name": "stdout",
          "text": [
            "The random number is: 5\n"
          ]
        }
      ]
    },
    {
      "cell_type": "markdown",
      "source": [
        "4. Count Lines in a File\n"
      ],
      "metadata": {
        "id": "Mj83lefibjJj"
      }
    },
    {
      "cell_type": "code",
      "source": [
        "with open(\"/content/data.tax\", \"r\") as file:\n",
        "    lines = file.readlines()\n",
        "    line_count = len(lines)\n",
        "print(\"The number of lines in data.txt is: line_count\")\n"
      ],
      "metadata": {
        "colab": {
          "base_uri": "https://localhost:8080/"
        },
        "id": "2mBCXc15bwjb",
        "outputId": "14b7434e-c523-4203-c328-5017c1a8b6c7"
      },
      "execution_count": 21,
      "outputs": [
        {
          "output_type": "stream",
          "name": "stdout",
          "text": [
            "The number of lines in data.txt is: line_count\n"
          ]
        }
      ]
    },
    {
      "cell_type": "markdown",
      "source": [
        "5. Count Words in a File\n"
      ],
      "metadata": {
        "id": "9nrcL4gzc-C0"
      }
    },
    {
      "cell_type": "code",
      "source": [],
      "metadata": {
        "id": "H9iSDxz4dCu-"
      },
      "execution_count": null,
      "outputs": []
    }
  ]
}