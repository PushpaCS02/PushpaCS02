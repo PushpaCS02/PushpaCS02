{
  "nbformat": 4,
  "nbformat_minor": 0,
  "metadata": {
    "colab": {
      "provenance": [],
      "authorship_tag": "ABX9TyOeGu7+tZLp+LLm9ZOln7qU",
      "include_colab_link": true
    },
    "kernelspec": {
      "name": "python3",
      "display_name": "Python 3"
    },
    "language_info": {
      "name": "python"
    }
  },
  "cells": [
    {
      "cell_type": "markdown",
      "metadata": {
        "id": "view-in-github",
        "colab_type": "text"
      },
      "source": [
        "<a href=\"https://colab.research.google.com/github/PushpaCS02/PushpaCS02/blob/main/Project_1_(prime_num).ipynb\" target=\"_parent\"><img src=\"https://colab.research.google.com/assets/colab-badge.svg\" alt=\"Open In Colab\"/></a>"
      ]
    },
    {
      "cell_type": "code",
      "source": [
        "def is_prime(number):\n",
        "    if number <= 1:\n",
        "        return False\n",
        "    for i in range(2, number):\n",
        "        if number % i == 0:\n",
        "            return False\n",
        "    return True\n",
        "num = int(input(\"Enter a number:\"))\n",
        "print(f\"{num} is prime: {is_prime(num)}\")\n"
      ],
      "metadata": {
        "colab": {
          "base_uri": "https://localhost:8080/"
        },
        "id": "wFMTpPfWxVIx",
        "outputId": "a04dcc82-173d-4ac8-f9e0-72f8c524e913"
      },
      "execution_count": 17,
      "outputs": [
        {
          "output_type": "stream",
          "name": "stdout",
          "text": [
            "Enter a number:5\n",
            "5 is prime: True\n"
          ]
        }
      ]
    },
    {
      "cell_type": "markdown",
      "source": [
        "1. Handle Small Numbers:\n",
        "   Numbers ≤1 are not prime.\n",
        "\n",
        "2. Check for Divisors:\n",
        "   For numbers greater than 1, check every number from 2 to number - 1 to see if it divides evenly (number % i == 0).\n",
        "\n",
        "3. Return Result:\n",
        "   If no divisors are found, the number is prime. If a divisor is found, it’s not.\n",
        "\n",
        "4. The f at the beginning of the string indicates it's a formatted string.\n",
        "   Inside the string, you can embed Python expressions in curly braces {}.\n"
      ],
      "metadata": {
        "id": "m1uTBeAWydxj"
      }
    },
    {
      "cell_type": "code",
      "source": [
        "def is_prime(number):\n",
        "    if number <= 1:\n",
        "        return False\n",
        "    for i in range(2, number):\n",
        "        if number % i == 0:\n",
        "            return False\n",
        "    return True\n",
        "num = int(input(\"Enter a number:\"))\n",
        "if is_prime(num):\n",
        "    print(\"The number is prime.\")\n",
        "else:\n",
        "    print(\"The number is not prime.\")"
      ],
      "metadata": {
        "colab": {
          "base_uri": "https://localhost:8080/"
        },
        "id": "rylCEctC62LI",
        "outputId": "4f4993af-69d8-4610-8e92-c038c9c8787b"
      },
      "execution_count": 19,
      "outputs": [
        {
          "output_type": "stream",
          "name": "stdout",
          "text": [
            "Enter a number:7\n",
            "The number is prime.\n"
          ]
        }
      ]
    },
    {
      "cell_type": "markdown",
      "source": [
        "\n",
        "\n",
        "*   def :- its a keyword  used in define function abd it also reusable\n",
        "\n",
        "*    Numbers is less than or equal to 1 are not prime than its return False,retern statment:- function can return values using the 'return\n",
        "\n",
        "*   The loop iterates through potential divisors (i) starting from 2 up to number - 1.\n",
        "*    number is true than it is print number is prime or else it's print number is not prime\n",
        "\n"
      ],
      "metadata": {
        "id": "5x2VPvpDAroh"
      }
    }
  ]
}