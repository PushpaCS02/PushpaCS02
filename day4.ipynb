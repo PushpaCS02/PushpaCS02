{
  "nbformat": 4,
  "nbformat_minor": 0,
  "metadata": {
    "colab": {
      "provenance": [],
      "authorship_tag": "ABX9TyOLSgeZi8t1Q1QXkgbbO9RR",
      "include_colab_link": true
    },
    "kernelspec": {
      "name": "python3",
      "display_name": "Python 3"
    },
    "language_info": {
      "name": "python"
    }
  },
  "cells": [
    {
      "cell_type": "markdown",
      "metadata": {
        "id": "view-in-github",
        "colab_type": "text"
      },
      "source": [
        "<a href=\"https://colab.research.google.com/github/PushpaCS02/PushpaCS02/blob/main/day4.ipynb\" target=\"_parent\"><img src=\"https://colab.research.google.com/assets/colab-badge.svg\" alt=\"Open In Colab\"/></a>"
      ]
    },
    {
      "cell_type": "markdown",
      "source": [
        "***Data Structures in Python***"
      ],
      "metadata": {
        "id": "KxI5cPvYJiBu"
      }
    },
    {
      "cell_type": "markdown",
      "source": [
        "List"
      ],
      "metadata": {
        "id": "H3xaF3NSJ6EH"
      }
    },
    {
      "cell_type": "code",
      "source": [
        "#Creating Items\n",
        "x=[1,2,3,4,5]\n",
        "print(x)\n"
      ],
      "metadata": {
        "colab": {
          "base_uri": "https://localhost:8080/"
        },
        "id": "wQqSx5nFJtYv",
        "outputId": "98d0d008-e376-4f94-9a72-ae487b97e2a5"
      },
      "execution_count": 1,
      "outputs": [
        {
          "output_type": "stream",
          "name": "stdout",
          "text": [
            "[1, 2, 3, 4, 5]\n"
          ]
        }
      ]
    },
    {
      "cell_type": "code",
      "source": [
        "#Accsseing Items\n",
        "y=[1,\"hello\",2.8]\n",
        "print(y)\n"
      ],
      "metadata": {
        "colab": {
          "base_uri": "https://localhost:8080/"
        },
        "id": "nmxnRWqBS6cS",
        "outputId": "569b4335-9f5b-4880-c26e-fa32a4303696"
      },
      "execution_count": 17,
      "outputs": [
        {
          "output_type": "stream",
          "name": "stdout",
          "text": [
            "[1, 'hello', 2.8]\n"
          ]
        }
      ]
    },
    {
      "cell_type": "code",
      "source": [
        "#Modifiying Items\n",
        "x[0]=10\n",
        "x\n"
      ],
      "metadata": {
        "colab": {
          "base_uri": "https://localhost:8080/"
        },
        "id": "DQ8IjTjLZn8e",
        "outputId": "d20f8667-0c1a-4e1f-b512-bde659d6572f"
      },
      "execution_count": 4,
      "outputs": [
        {
          "output_type": "execute_result",
          "data": {
            "text/plain": [
              "[10, 2, 3, 4, 5]"
            ]
          },
          "metadata": {},
          "execution_count": 4
        }
      ]
    },
    {
      "cell_type": "markdown",
      "source": [
        "**Adding Items**"
      ],
      "metadata": {
        "id": "ZFH9WLtIaU_j"
      }
    },
    {
      "cell_type": "code",
      "source": [
        "#Adding Items\n",
        "y[2]=5.6\n",
        "y"
      ],
      "metadata": {
        "colab": {
          "base_uri": "https://localhost:8080/"
        },
        "id": "BNFLDJwdaEIf",
        "outputId": "0440c1e7-255d-4ca1-83ea-28264ed3df91"
      },
      "execution_count": 18,
      "outputs": [
        {
          "output_type": "execute_result",
          "data": {
            "text/plain": [
              "[1, 'hello', 5.6]"
            ]
          },
          "metadata": {},
          "execution_count": 18
        }
      ]
    },
    {
      "cell_type": "code",
      "source": [
        "#append()\n",
        "y.append(\"Hi\")\n",
        "y"
      ],
      "metadata": {
        "colab": {
          "base_uri": "https://localhost:8080/"
        },
        "id": "1rPtQLpNarj3",
        "outputId": "3b267f5c-4f7c-4bb1-fbc6-2c98f867271b"
      },
      "execution_count": 19,
      "outputs": [
        {
          "output_type": "execute_result",
          "data": {
            "text/plain": [
              "[1, 'hello', 5.6, 'Hi']"
            ]
          },
          "metadata": {},
          "execution_count": 19
        }
      ]
    },
    {
      "cell_type": "code",
      "source": [
        "#insert\n",
        "x.insert(3,8)\n",
        "x"
      ],
      "metadata": {
        "colab": {
          "base_uri": "https://localhost:8080/"
        },
        "id": "A8lOvXW8aRbj",
        "outputId": "b13a5792-c34d-4e14-ef76-a0a4563c50fd"
      },
      "execution_count": 9,
      "outputs": [
        {
          "output_type": "execute_result",
          "data": {
            "text/plain": [
              "[10, 2, 3, 8, 4, 5]"
            ]
          },
          "metadata": {},
          "execution_count": 9
        }
      ]
    },
    {
      "cell_type": "markdown",
      "source": [
        "**Removing Items**"
      ],
      "metadata": {
        "id": "Tc_U27OKbgsy"
      }
    },
    {
      "cell_type": "code",
      "source": [
        "#remove()\n",
        "x.remove(4)\n",
        "x\n"
      ],
      "metadata": {
        "colab": {
          "base_uri": "https://localhost:8080/"
        },
        "id": "dkJPXqXvbdgy",
        "outputId": "075fc203-1e63-4975-8d9d-d6ddd4adaebb"
      },
      "execution_count": 10,
      "outputs": [
        {
          "output_type": "execute_result",
          "data": {
            "text/plain": [
              "[10, 2, 3, 8, 5]"
            ]
          },
          "metadata": {},
          "execution_count": 10
        }
      ]
    },
    {
      "cell_type": "code",
      "source": [
        "#pop()\n",
        "y.pop(1)\n",
        "y"
      ],
      "metadata": {
        "colab": {
          "base_uri": "https://localhost:8080/"
        },
        "id": "k5kW3L4rbzG1",
        "outputId": "25a2f57f-c658-4ecf-a3a1-ab4fb2ff2ce1"
      },
      "execution_count": 20,
      "outputs": [
        {
          "output_type": "execute_result",
          "data": {
            "text/plain": [
              "[1, 5.6, 'Hi']"
            ]
          },
          "metadata": {},
          "execution_count": 20
        }
      ]
    },
    {
      "cell_type": "markdown",
      "source": [
        "**Other Operations**"
      ],
      "metadata": {
        "id": "qSSS379HclSD"
      }
    },
    {
      "cell_type": "code",
      "source": [
        "#len()\n",
        "a=(1,2,3,4,5,6,7,)\n",
        "len(a)"
      ],
      "metadata": {
        "colab": {
          "base_uri": "https://localhost:8080/"
        },
        "id": "CVBqdZLYcuDj",
        "outputId": "45eb44c3-4f7f-4251-885d-ffe59716ea11"
      },
      "execution_count": 22,
      "outputs": [
        {
          "output_type": "execute_result",
          "data": {
            "text/plain": [
              "7"
            ]
          },
          "metadata": {},
          "execution_count": 22
        }
      ]
    },
    {
      "cell_type": "code",
      "source": [
        "#sort()\n",
        "b=[\"apple\",\"ball\",\"cat\"]\n",
        "b.sort()\n",
        "b"
      ],
      "metadata": {
        "colab": {
          "base_uri": "https://localhost:8080/"
        },
        "id": "e0C4-it6dCpr",
        "outputId": "d1da132e-d4e2-4e86-9f86-98450b141b54"
      },
      "execution_count": 29,
      "outputs": [
        {
          "output_type": "execute_result",
          "data": {
            "text/plain": [
              "['apple', 'ball', 'cat']"
            ]
          },
          "metadata": {},
          "execution_count": 29
        }
      ]
    },
    {
      "cell_type": "code",
      "source": [
        "#Reverse()\n",
        "c=[1,2,3,4,5,6,]\n",
        "c.reverse\n",
        "c"
      ],
      "metadata": {
        "colab": {
          "base_uri": "https://localhost:8080/"
        },
        "id": "FQVmP7eJd6m1",
        "outputId": "3474e935-076a-44c9-dab5-7a62a633ce58"
      },
      "execution_count": 32,
      "outputs": [
        {
          "output_type": "execute_result",
          "data": {
            "text/plain": [
              "[1, 2, 3, 4, 5, 6]"
            ]
          },
          "metadata": {},
          "execution_count": 32
        }
      ]
    },
    {
      "cell_type": "markdown",
      "source": [
        "**Iterating Throuh a List**\n"
      ],
      "metadata": {
        "id": "lAM6o63UehHs"
      }
    },
    {
      "cell_type": "code",
      "source": [
        "for i in y:\n",
        "  print(i)"
      ],
      "metadata": {
        "colab": {
          "base_uri": "https://localhost:8080/"
        },
        "id": "yBxW1lAmesIQ",
        "outputId": "0349010c-ab1d-4dd1-d0c3-06f285fde512"
      },
      "execution_count": 33,
      "outputs": [
        {
          "output_type": "stream",
          "name": "stdout",
          "text": [
            "1\n",
            "5.6\n",
            "Hi\n"
          ]
        }
      ]
    },
    {
      "cell_type": "markdown",
      "source": [
        "Tuples"
      ],
      "metadata": {
        "id": "kV5ybagee7lD"
      }
    },
    {
      "cell_type": "code",
      "source": [
        "#creating tuples\n",
        "a=(1,2,3,4,5,6,7)\n",
        "a"
      ],
      "metadata": {
        "colab": {
          "base_uri": "https://localhost:8080/"
        },
        "id": "HNoj0NK9fAqb",
        "outputId": "c8b173f0-927d-453b-a34a-7e51ba00e3be"
      },
      "execution_count": 34,
      "outputs": [
        {
          "output_type": "execute_result",
          "data": {
            "text/plain": [
              "(1, 2, 3, 4, 5, 6, 7)"
            ]
          },
          "metadata": {},
          "execution_count": 34
        }
      ]
    },
    {
      "cell_type": "markdown",
      "source": [
        "**Accessing Items in a Tuple**"
      ],
      "metadata": {
        "id": "EKTa4VcWh8Lr"
      }
    },
    {
      "cell_type": "code",
      "source": [
        "a=(1,2,3,4,5,6,7)\n",
        "print(a[4])\n"
      ],
      "metadata": {
        "colab": {
          "base_uri": "https://localhost:8080/"
        },
        "id": "dHSvQDGzhfN4",
        "outputId": "76c6de78-1fa1-4516-b530-61e1d59d0cf2"
      },
      "execution_count": 4,
      "outputs": [
        {
          "output_type": "stream",
          "name": "stdout",
          "text": [
            "5\n"
          ]
        }
      ]
    },
    {
      "cell_type": "markdown",
      "source": [
        "Dictionary"
      ],
      "metadata": {
        "id": "-TWD8oS4isya"
      }
    },
    {
      "cell_type": "code",
      "source": [
        "student={\n",
        "    \"name\":\"pushpa\",\n",
        "    \"age\": 18,\n",
        "    \"grade\":\"B\"\n",
        "}\n",
        "print(student)"
      ],
      "metadata": {
        "colab": {
          "base_uri": "https://localhost:8080/"
        },
        "id": "58b4Mll7i06k",
        "outputId": "d023b9e3-534b-41ae-870c-807c52b2ddfe"
      },
      "execution_count": 11,
      "outputs": [
        {
          "output_type": "stream",
          "name": "stdout",
          "text": [
            "{'name': 'pushpa', 'age': 18, 'grade': 'A'}\n"
          ]
        }
      ]
    },
    {
      "cell_type": "code",
      "source": [
        "#Accessing\n",
        "print(student[\"name\"])"
      ],
      "metadata": {
        "colab": {
          "base_uri": "https://localhost:8080/"
        },
        "id": "G4DjqUfFjon7",
        "outputId": "318f424e-06c0-444a-8daa-4ae12dd11e42"
      },
      "execution_count": 13,
      "outputs": [
        {
          "output_type": "stream",
          "name": "stdout",
          "text": [
            "pushpa\n"
          ]
        }
      ]
    },
    {
      "cell_type": "code",
      "source": [
        "#Adding\n",
        "student[\"grade\"]=\"A\"\n",
        "print(student)"
      ],
      "metadata": {
        "colab": {
          "base_uri": "https://localhost:8080/"
        },
        "id": "Yaq66jO1j-Fm",
        "outputId": "1fdf77a8-683c-4821-9de4-58aa933325a0"
      },
      "execution_count": 15,
      "outputs": [
        {
          "output_type": "stream",
          "name": "stdout",
          "text": [
            "{'name': 'pushpa', 'age': 18, 'grade': 'A'}\n"
          ]
        }
      ]
    },
    {
      "cell_type": "code",
      "source": [
        "#Removing:\n",
        "del student['age']\n",
        "print(student)"
      ],
      "metadata": {
        "colab": {
          "base_uri": "https://localhost:8080/"
        },
        "id": "yCfEty4jnVuk",
        "outputId": "504f6691-3807-4a0c-e345-feb71632e9f7"
      },
      "execution_count": 16,
      "outputs": [
        {
          "output_type": "stream",
          "name": "stdout",
          "text": [
            "{'name': 'pushpa', 'grade': 'A'}\n"
          ]
        }
      ]
    },
    {
      "cell_type": "markdown",
      "source": [
        "Iterating Though a Dictionary"
      ],
      "metadata": {
        "id": "nvG7LbuPoEei"
      }
    },
    {
      "cell_type": "code",
      "source": [
        "for key,value in student.items():\n",
        "  print(key,value)"
      ],
      "metadata": {
        "colab": {
          "base_uri": "https://localhost:8080/"
        },
        "id": "Q6WLvPSbodTi",
        "outputId": "646fec21-6df8-4bbf-e480-4ed1533f05af"
      },
      "execution_count": 17,
      "outputs": [
        {
          "output_type": "stream",
          "name": "stdout",
          "text": [
            "name pushpa\n",
            "grade A\n"
          ]
        }
      ]
    },
    {
      "cell_type": "markdown",
      "source": [
        "***Set***\n",
        "\n",
        " Creating a set"
      ],
      "metadata": {
        "id": "OreUvB1vo1H1"
      }
    },
    {
      "cell_type": "code",
      "source": [
        "n = {1,2,3,4,5,6,7}\n",
        "n"
      ],
      "metadata": {
        "colab": {
          "base_uri": "https://localhost:8080/"
        },
        "id": "YLIf7GbXoyeF",
        "outputId": "e6b5361b-9c95-407d-d03a-19afaf917111"
      },
      "execution_count": 18,
      "outputs": [
        {
          "output_type": "execute_result",
          "data": {
            "text/plain": [
              "{1, 2, 3, 4, 5, 6, 7}"
            ]
          },
          "metadata": {},
          "execution_count": 18
        }
      ]
    },
    {
      "cell_type": "markdown",
      "source": [
        "Set Operations"
      ],
      "metadata": {
        "id": "R41b4wWmpWhX"
      }
    },
    {
      "cell_type": "code",
      "source": [
        "#Adding Items\n",
        "n.add(9)\n",
        "n"
      ],
      "metadata": {
        "colab": {
          "base_uri": "https://localhost:8080/"
        },
        "id": "MHrEyUr3pU3Q",
        "outputId": "548ae3ce-b590-484c-8151-d1088d3c331f"
      },
      "execution_count": 19,
      "outputs": [
        {
          "output_type": "execute_result",
          "data": {
            "text/plain": [
              "{1, 2, 3, 4, 5, 6, 7, 9}"
            ]
          },
          "metadata": {},
          "execution_count": 19
        }
      ]
    },
    {
      "cell_type": "code",
      "source": [
        "#removing Items\n",
        "n.remove(3)\n",
        "n"
      ],
      "metadata": {
        "colab": {
          "base_uri": "https://localhost:8080/"
        },
        "id": "9bN-sjSVprDK",
        "outputId": "d0d4a59f-90c8-4bb1-8a56-4da7575300d6"
      },
      "execution_count": 20,
      "outputs": [
        {
          "output_type": "execute_result",
          "data": {
            "text/plain": [
              "{1, 2, 4, 5, 6, 7, 9}"
            ]
          },
          "metadata": {},
          "execution_count": 20
        }
      ]
    },
    {
      "cell_type": "markdown",
      "source": [
        "**Set Operations**"
      ],
      "metadata": {
        "id": "6URpgYCPp8Mb"
      }
    },
    {
      "cell_type": "code",
      "source": [
        "#Union\n",
        "a={1,2,3,4,5}\n",
        "b=(1,2,3,5,5.3,8)\n",
        "print(a.union(b))"
      ],
      "metadata": {
        "colab": {
          "base_uri": "https://localhost:8080/"
        },
        "id": "_KD_QiGbqD07",
        "outputId": "95fd1616-08d1-4a5e-9bba-af46c8faa9bf"
      },
      "execution_count": 26,
      "outputs": [
        {
          "output_type": "stream",
          "name": "stdout",
          "text": [
            "{1, 2, 3, 4, 5, 5.3, 8}\n"
          ]
        }
      ]
    },
    {
      "cell_type": "code",
      "source": [
        "#Itersection\n",
        "print(a.intersection(b))"
      ],
      "metadata": {
        "colab": {
          "base_uri": "https://localhost:8080/"
        },
        "id": "q5qaDjuarKAp",
        "outputId": "58a845fe-ef44-426e-db09-cd1fb7af2df6"
      },
      "execution_count": 27,
      "outputs": [
        {
          "output_type": "stream",
          "name": "stdout",
          "text": [
            "{1, 2, 3, 5}\n"
          ]
        }
      ]
    },
    {
      "cell_type": "code",
      "source": [
        "#Difference\n",
        "print(a.difference(b))"
      ],
      "metadata": {
        "colab": {
          "base_uri": "https://localhost:8080/"
        },
        "id": "dSI3I6pRrY8Z",
        "outputId": "fc0f711c-11c7-409b-c43b-963715bc26e3"
      },
      "execution_count": 28,
      "outputs": [
        {
          "output_type": "stream",
          "name": "stdout",
          "text": [
            "{4}\n"
          ]
        }
      ]
    },
    {
      "cell_type": "markdown",
      "source": [
        "**Manuplating Lists**"
      ],
      "metadata": {
        "id": "2bB3YbttrvWL"
      }
    },
    {
      "cell_type": "code",
      "source": [
        "fruits=[\"apple\",\"banana\",\"orange\"]\n",
        "fruits.append(\"mengo\")\n",
        "fruits.remove(\"banana\")\n",
        "print(fruits)"
      ],
      "metadata": {
        "colab": {
          "base_uri": "https://localhost:8080/"
        },
        "id": "anlAi8z_r2Mz",
        "outputId": "b84f7ea0-29fe-4735-8d52-7a504a24e94f"
      },
      "execution_count": 29,
      "outputs": [
        {
          "output_type": "stream",
          "name": "stdout",
          "text": [
            "['apple', 'orange', 'mengo']\n"
          ]
        }
      ]
    },
    {
      "cell_type": "markdown",
      "source": [
        "Creating a Dectionary"
      ],
      "metadata": {
        "id": "0mgcsckFsne1"
      }
    },
    {
      "cell_type": "code",
      "source": [
        "book={\n",
        "    \"title\":\"Python Basics\",\n",
        "    \"athor\":\"John Doe\",\n",
        "    \"year\":2023\n",
        "}\n",
        "print(book)"
      ],
      "metadata": {
        "colab": {
          "base_uri": "https://localhost:8080/"
        },
        "id": "d5dTQnqPslam",
        "outputId": "57772423-0af7-4e17-b7f5-2410b1ef0a0b"
      },
      "execution_count": 30,
      "outputs": [
        {
          "output_type": "stream",
          "name": "stdout",
          "text": [
            "{'title': 'Python Basics', 'athor': 'John Doe', 'year': 2023}\n"
          ]
        }
      ]
    },
    {
      "cell_type": "markdown",
      "source": [
        "Working with Sets"
      ],
      "metadata": {
        "id": "y-JkamaatUHp"
      }
    },
    {
      "cell_type": "code",
      "source": [
        "s1={1,2,3,4,5}\n",
        "s2={4,5,6,7,8}\n",
        "print(\"Union:\",s1|s2)\n",
        "print(\"Intersection:\", s1&s2)\n",
        "print(\"Difference:\",s1-s2)"
      ],
      "metadata": {
        "colab": {
          "base_uri": "https://localhost:8080/"
        },
        "id": "jGg2Wk7wtcXm",
        "outputId": "ba4d2469-dda1-4306-84cf-e90442321015"
      },
      "execution_count": 2,
      "outputs": [
        {
          "output_type": "stream",
          "name": "stdout",
          "text": [
            "Union: {1, 2, 3, 4, 5, 6, 7, 8}\n",
            "Intersection: {4, 5}\n",
            "Difference: {1, 2, 3}\n"
          ]
        }
      ]
    },
    {
      "cell_type": "markdown",
      "source": [
        "**Merge Two Operations**"
      ],
      "metadata": {
        "id": "zfVQO-kGuXx1"
      }
    },
    {
      "cell_type": "code",
      "source": [
        "l1=[1,2,3,]\n",
        "l2=[4,5,6]\n",
        "merged_list=l1+l2\n",
        "print(merged_list)"
      ],
      "metadata": {
        "colab": {
          "base_uri": "https://localhost:8080/"
        },
        "id": "HkKriqdgtR5x",
        "outputId": "e944bbc3-4ab7-4be2-c21c-d5a8c50ee790"
      },
      "execution_count": 3,
      "outputs": [
        {
          "output_type": "stream",
          "name": "stdout",
          "text": [
            "[1, 2, 3, 4, 5, 6]\n"
          ]
        }
      ]
    },
    {
      "cell_type": "markdown",
      "source": [
        "**Dictionary  Operations**"
      ],
      "metadata": {
        "id": "sJVzbPrZu-XX"
      }
    },
    {
      "cell_type": "code",
      "source": [
        "student={\"name\":\"pushpa\",\"age\":18,\"grade\":\"A\"}\n",
        "print(\"Name:\",student[\"name\"])\n",
        "student[\"marks\"]=90\n",
        "print(\"Updated Marks:\",student[\"marks\"])"
      ],
      "metadata": {
        "colab": {
          "base_uri": "https://localhost:8080/"
        },
        "id": "X_Rl-MZ_vIqm",
        "outputId": "13949ae9-3682-4e5e-c196-2c5929deecf0"
      },
      "execution_count": 4,
      "outputs": [
        {
          "output_type": "stream",
          "name": "stdout",
          "text": [
            "Name: pushpa\n",
            "Updated Marks: 90\n"
          ]
        }
      ]
    },
    {
      "cell_type": "markdown",
      "source": [
        "Find the Maximum and Minimum ia a List"
      ],
      "metadata": {
        "id": "E_RM5BwHwEJJ"
      }
    },
    {
      "cell_type": "code",
      "source": [
        "n=[10,20,30,40,50,60]\n",
        "print(\"Maximum:\",max(n))\n",
        "print(\"Minimum:\",min(n))"
      ],
      "metadata": {
        "colab": {
          "base_uri": "https://localhost:8080/"
        },
        "id": "fzd1VciUwOWh",
        "outputId": "2fca5f85-13d4-4020-92f2-b2ef1989d716"
      },
      "execution_count": 5,
      "outputs": [
        {
          "output_type": "stream",
          "name": "stdout",
          "text": [
            "Maximum: 60\n",
            "Minimum: 10\n"
          ]
        }
      ]
    },
    {
      "cell_type": "markdown",
      "source": [
        "Count Frequency of Elements in a list"
      ],
      "metadata": {
        "id": "3PbiLU2RwoHK"
      }
    },
    {
      "cell_type": "code",
      "source": [
        "n=[1,2,2,3,3,3,4,4,4,4]\n",
        "frequency={}\n",
        "for num in n:\n",
        "  frequency[num]=frequency.get(num,0)+1\n",
        "  print(\"Frequency of elements:\",frequency)"
      ],
      "metadata": {
        "colab": {
          "base_uri": "https://localhost:8080/"
        },
        "id": "It9Z6260wz0r",
        "outputId": "e49383d1-c7af-4016-c164-69b01c72b107"
      },
      "execution_count": 9,
      "outputs": [
        {
          "output_type": "stream",
          "name": "stdout",
          "text": [
            "Frequency of elements: {1: 1}\n",
            "Frequency of elements: {1: 1, 2: 1}\n",
            "Frequency of elements: {1: 1, 2: 2}\n",
            "Frequency of elements: {1: 1, 2: 2, 3: 1}\n",
            "Frequency of elements: {1: 1, 2: 2, 3: 2}\n",
            "Frequency of elements: {1: 1, 2: 2, 3: 3}\n",
            "Frequency of elements: {1: 1, 2: 2, 3: 3, 4: 1}\n",
            "Frequency of elements: {1: 1, 2: 2, 3: 3, 4: 2}\n",
            "Frequency of elements: {1: 1, 2: 2, 3: 3, 4: 3}\n",
            "Frequency of elements: {1: 1, 2: 2, 3: 3, 4: 4}\n"
          ]
        }
      ]
    },
    {
      "cell_type": "markdown",
      "source": [
        "Sort a List of Tuples by the Second Element"
      ],
      "metadata": {
        "id": "OFcaP3QMySSv"
      }
    },
    {
      "cell_type": "code",
      "source": [
        "tuples=[(1,\"apple\"),(2,\"ball\"),(3,\"cats\")]\n",
        "sorted_tuples=sorted(tuples,key=lambda x:x[1])\n",
        "print(\"Sorted tuples:\",sorted_tuples)"
      ],
      "metadata": {
        "colab": {
          "base_uri": "https://localhost:8080/"
        },
        "id": "UysBcCL9yLfA",
        "outputId": "f1f87135-ad53-4547-e9d6-93fc99fb8fe3"
      },
      "execution_count": 13,
      "outputs": [
        {
          "output_type": "stream",
          "name": "stdout",
          "text": [
            "Sorted tuples: [(1, 'apple'), (2, 'ball'), (3, 'cats')]\n"
          ]
        }
      ]
    },
    {
      "cell_type": "markdown",
      "source": [
        "**Check number is Palindrom**"
      ],
      "metadata": {
        "id": "JQexmi0h3a4g"
      }
    },
    {
      "cell_type": "code",
      "source": [
        "number = int(input(\"Enter a number:\"))\n",
        "reverse_number = 0\n",
        "temp = number\n",
        "while temp > 0:\n",
        "  digit = temp % 10\n",
        "  reverse_number = reverse_number * 10 + digit\n",
        "  temp //= 10\n",
        "  if number == reverse_number:\n",
        "    print(\"The number is a palindrom:\")\n",
        "  else:\n",
        "    print(\"The number is not a palindrom: \")\n"
      ],
      "metadata": {
        "colab": {
          "base_uri": "https://localhost:8080/"
        },
        "id": "9d6TMSht3cuQ",
        "outputId": "63eb2600-58aa-47c1-835e-479aa674c22c"
      },
      "execution_count": 14,
      "outputs": [
        {
          "output_type": "stream",
          "name": "stdout",
          "text": [
            "Enter a number:121\n",
            "The number is not a polindrom: \n",
            "The number is not a polindrom: \n",
            "The number is a palindrom:\n"
          ]
        }
      ]
    },
    {
      "cell_type": "code",
      "source": [
        "number = input(\"Enter a number:\")\n",
        "if str(number) == str(number)[::-1]:\n",
        "    print(\" palindrom:\")\n",
        "else:\n",
        "    print(\" palindrom: \")"
      ],
      "metadata": {
        "colab": {
          "base_uri": "https://localhost:8080/"
        },
        "id": "Ig2mysBg5uRj",
        "outputId": "dc64a5e7-142c-4930-dee1-c9e82689102c"
      },
      "execution_count": 5,
      "outputs": [
        {
          "output_type": "stream",
          "name": "stdout",
          "text": [
            "Enter a number:mom\n",
            " palindrom:\n"
          ]
        }
      ]
    }
  ]
}