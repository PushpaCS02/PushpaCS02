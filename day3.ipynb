{
  "nbformat": 4,
  "nbformat_minor": 0,
  "metadata": {
    "colab": {
      "provenance": [],
      "authorship_tag": "ABX9TyNQYM1I0/LwP9fO+GicvEFH",
      "include_colab_link": true
    },
    "kernelspec": {
      "name": "python3",
      "display_name": "Python 3"
    },
    "language_info": {
      "name": "python"
    }
  },
  "cells": [
    {
      "cell_type": "markdown",
      "metadata": {
        "id": "view-in-github",
        "colab_type": "text"
      },
      "source": [
        "<a href=\"https://colab.research.google.com/github/PushpaCS02/PushpaCS02/blob/main/day3.ipynb\" target=\"_parent\"><img src=\"https://colab.research.google.com/assets/colab-badge.svg\" alt=\"Open In Colab\"/></a>"
      ]
    },
    {
      "cell_type": "markdown",
      "source": [
        "Functions and Modules\n",
        "\n",
        " Function"
      ],
      "metadata": {
        "id": "k_4gkAmeeNXh"
      }
    },
    {
      "cell_type": "code",
      "source": [
        "#function sntax\n",
        "def greet(name):\n",
        "  print(\"Hello,\"+name+\"!\")\n",
        "greet(\"pushpa\")\n",
        "\n"
      ],
      "metadata": {
        "colab": {
          "base_uri": "https://localhost:8080/"
        },
        "id": "gJsRPlS-eak4",
        "outputId": "fc3fb775-5570-4e9f-e4bb-88858456349e"
      },
      "execution_count": null,
      "outputs": [
        {
          "output_type": "stream",
          "name": "stdout",
          "text": [
            "Hello,pushpa!\n"
          ]
        }
      ]
    },
    {
      "cell_type": "markdown",
      "source": [
        "Positional Aregument"
      ],
      "metadata": {
        "id": "Cf5R63-ZfIRS"
      }
    },
    {
      "cell_type": "code",
      "source": [
        "#positional aregument\n",
        "def add(a,b):\n",
        "  return(a+b)\n",
        "print(add(6,8))\n"
      ],
      "metadata": {
        "colab": {
          "base_uri": "https://localhost:8080/"
        },
        "id": "qFGO6h8KfhmK",
        "outputId": "516aa76c-ab24-4f9c-d837-f81be477719b"
      },
      "execution_count": null,
      "outputs": [
        {
          "output_type": "stream",
          "name": "stdout",
          "text": [
            "14\n"
          ]
        }
      ]
    },
    {
      "cell_type": "code",
      "source": [
        "#key word argument\n",
        "def greet(name, message):\n",
        "  print(message +\",\"+ name +\"!\")\n",
        "greet(name=\"pushpa\",message=\"good morning\")\n"
      ],
      "metadata": {
        "colab": {
          "base_uri": "https://localhost:8080/"
        },
        "id": "ZfVSisXSf-L8",
        "outputId": "b6570fce-146e-4b62-b5e1-005dcc89ace1"
      },
      "execution_count": null,
      "outputs": [
        {
          "output_type": "stream",
          "name": "stdout",
          "text": [
            "good morning,pushpa!\n"
          ]
        }
      ]
    },
    {
      "cell_type": "code",
      "source": [
        "#defalt Arguments\n",
        "def greet(name, message=\"Hello\"):\n",
        "    print(message +\",\"+ name +\"!\")\n",
        "greet(\"pushpa\")\n",
        "greet(\"Bob\",\"Hi\")"
      ],
      "metadata": {
        "colab": {
          "base_uri": "https://localhost:8080/"
        },
        "id": "1m2LCW0rhFMZ",
        "outputId": "60395363-f21c-44f7-955a-d4c13d72a9d2"
      },
      "execution_count": null,
      "outputs": [
        {
          "output_type": "stream",
          "name": "stdout",
          "text": [
            "Hello,pushpa!\n",
            "Hi,Bob!\n"
          ]
        }
      ]
    },
    {
      "cell_type": "code",
      "source": [
        "#variable length argument\n",
        "#positional argument\n",
        "def sumnumber(*number):\n",
        "  return sum(number)\n",
        "print(sumnumber(1,2,3,4,5))"
      ],
      "metadata": {
        "colab": {
          "base_uri": "https://localhost:8080/"
        },
        "id": "fxmXjCb1hxip",
        "outputId": "7561d94d-d91b-40a1-e287-b4d988caf3d6"
      },
      "execution_count": null,
      "outputs": [
        {
          "output_type": "stream",
          "name": "stdout",
          "text": [
            "15\n"
          ]
        }
      ]
    },
    {
      "cell_type": "markdown",
      "source": [],
      "metadata": {
        "id": "3J3v2-qFnyQn"
      }
    },
    {
      "cell_type": "code",
      "source": [
        "#variable length argument\n",
        "#**keyword argument\n",
        "def pushpa(**number):\n",
        "  for key, value in number.items():\n",
        "    print(f\"{key}:{value}\")\n",
        "pushpa(name=\"pushpa\", age=25, city=\"New York\")"
      ],
      "metadata": {
        "colab": {
          "base_uri": "https://localhost:8080/"
        },
        "id": "VtyqzRDhlWAA",
        "outputId": "7e3683e9-7c79-4631-8f8d-15a78198e099"
      },
      "execution_count": null,
      "outputs": [
        {
          "output_type": "stream",
          "name": "stdout",
          "text": [
            "name:pushpa\n",
            "age:25\n",
            "city:New York\n"
          ]
        }
      ]
    },
    {
      "cell_type": "markdown",
      "source": [
        "Return Statement"
      ],
      "metadata": {
        "id": "DqHHDR8in2qG"
      }
    },
    {
      "cell_type": "code",
      "source": [
        "def square(num):\n",
        "  return num*num\n",
        "square(5)\n",
        "reslt=square(5)\n",
        "print(\"Square is:\",reslt)"
      ],
      "metadata": {
        "colab": {
          "base_uri": "https://localhost:8080/"
        },
        "id": "sTiolmqSn7b3",
        "outputId": "71022404-197f-4376-b674-7caf0b5d2ead"
      },
      "execution_count": null,
      "outputs": [
        {
          "output_type": "stream",
          "name": "stdout",
          "text": [
            "Square is: 25\n"
          ]
        }
      ]
    },
    {
      "cell_type": "code",
      "source": [
        "#built function\n",
        "reslt=square(4)\n",
        "print(\"Square is:\",reslt)"
      ],
      "metadata": {
        "colab": {
          "base_uri": "https://localhost:8080/"
        },
        "id": "5hIM0OUoopbv",
        "outputId": "cd0a597a-92eb-4afb-8038-e0571eec041b"
      },
      "execution_count": null,
      "outputs": [
        {
          "output_type": "stream",
          "name": "stdout",
          "text": [
            "Square is: 16\n"
          ]
        }
      ]
    },
    {
      "cell_type": "markdown",
      "source": [
        "**Modules**"
      ],
      "metadata": {
        "id": "t5Rkp7hKqXvF"
      }
    },
    {
      "cell_type": "code",
      "source": [
        "import math\n",
        "print(math.sqrt(16))"
      ],
      "metadata": {
        "colab": {
          "base_uri": "https://localhost:8080/"
        },
        "id": "njsaAjvVqbqt",
        "outputId": "8df80586-f82d-41ba-904f-0e1cd7f2a6e0"
      },
      "execution_count": null,
      "outputs": [
        {
          "output_type": "stream",
          "name": "stdout",
          "text": [
            "4.0\n"
          ]
        }
      ]
    },
    {
      "cell_type": "code",
      "source": [
        "import math\n",
        "from math import pi,sin\n",
        "print(pi)\n",
        "print(sin(math.radians(90)))"
      ],
      "metadata": {
        "colab": {
          "base_uri": "https://localhost:8080/"
        },
        "id": "Z2GjZ5yHrRpG",
        "outputId": "246127a0-c33c-4fec-e2d6-07a3c9d46ce6"
      },
      "execution_count": null,
      "outputs": [
        {
          "output_type": "stream",
          "name": "stdout",
          "text": [
            "3.141592653589793\n",
            "1.0\n"
          ]
        }
      ]
    },
    {
      "cell_type": "code",
      "source": [
        "import my_module\n",
        "def greet(name):\n",
        "  print(\"Hello,\"+name)\n",
        "\n",
        "def add(a,b):\n",
        "  return a+b\n",
        "import my_module\n",
        "\n",
        "my_module.greet(\"pushpa\")\n",
        "print(my_module.add(5,7))\n"
      ],
      "metadata": {
        "colab": {
          "base_uri": "https://localhost:8080/"
        },
        "id": "rEogTQYqt1Gm",
        "outputId": "d9192cfd-af43-4555-f9e3-8b4e17d6b7b4"
      },
      "execution_count": null,
      "outputs": [
        {
          "output_type": "stream",
          "name": "stdout",
          "text": [
            "Hello,pushpa\n",
            "12\n",
            "Hello,pushpa\n",
            "12\n"
          ]
        }
      ]
    },
    {
      "cell_type": "markdown",
      "source": [
        "prime or not"
      ],
      "metadata": {
        "id": "m7luNJ9PGPMx"
      }
    },
    {
      "cell_type": "code",
      "source": [
        "def is_prime(num):\n",
        "  if num<=1:\n",
        "    return False\n",
        "\n",
        " for i in range(2,int(num**0.5)+1):\n",
        "  if num %i ==0 :\n",
        "    return False\n",
        " return True\n",
        "\n",
        "num=int(input(\"enter a numbe:\"))\n",
        "  if is_prime(num):\n",
        "    print(\"The number is prime\")\n",
        "  else:\n",
        "    print(\"The number is not prime\")"
      ],
      "metadata": {
        "colab": {
          "base_uri": "https://localhost:8080/",
          "height": 106
        },
        "id": "CZ4A_xjlGVuB",
        "outputId": "043ac5fd-607f-4976-d340-d735906312ab"
      },
      "execution_count": 12,
      "outputs": [
        {
          "output_type": "error",
          "ename": "IndentationError",
          "evalue": "unindent does not match any outer indentation level (<tokenize>, line 5)",
          "traceback": [
            "\u001b[0;36m  File \u001b[0;32m\"<tokenize>\"\u001b[0;36m, line \u001b[0;32m5\u001b[0m\n\u001b[0;31m    for i in range(2,int(num**0.5)+1):\u001b[0m\n\u001b[0m    ^\u001b[0m\n\u001b[0;31mIndentationError\u001b[0m\u001b[0;31m:\u001b[0m unindent does not match any outer indentation level\n"
          ]
        }
      ]
    },
    {
      "cell_type": "markdown",
      "source": [
        "Create a Function to Generate Fibbonacci Sqquence"
      ],
      "metadata": {
        "id": "kSwQwkFTMgbX"
      }
    },
    {
      "cell_type": "code",
      "source": [
        "def fib(n):\n",
        "  sequence=[]\n",
        "  a,b=0,1\n",
        "  for _ in range(n):\n",
        "    sequence.append(a)\n",
        "    a,b = b,a+b\n",
        "  return sequence\n",
        "\n",
        "terms=int(input(\"Enter the number of terms:\"))\n",
        "print(\"Fibonacci sequence:\",fib(terms))"
      ],
      "metadata": {
        "colab": {
          "base_uri": "https://localhost:8080/"
        },
        "id": "a46i4mZqMxG_",
        "outputId": "8761aa49-44a6-4c3d-fc93-186977da4865"
      },
      "execution_count": 28,
      "outputs": [
        {
          "output_type": "stream",
          "name": "stdout",
          "text": [
            "Enter the number of terms:8\n",
            "Fibonacci sequence: [0, 1, 1, 2, 3, 5, 8, 13]\n"
          ]
        }
      ]
    },
    {
      "cell_type": "code",
      "source": [
        "\n",
        "import math\n",
        "angle = float(input(\"Enter an angle in degrees:\"))\n",
        "radian = math.radians(angle)\n",
        "print(\"Sine of angle:\", math.sin(radian))\n",
        "print(\"Cosine of angle:\", math.cos(radian))\n"
      ],
      "metadata": {
        "colab": {
          "base_uri": "https://localhost:8080/"
        },
        "id": "EfJiDtVjPUZX",
        "outputId": "ee6b9797-d108-443e-a972-88c206009ec5"
      },
      "execution_count": 19,
      "outputs": [
        {
          "output_type": "stream",
          "name": "stdout",
          "text": [
            "Enter an angle in degrees:10\n",
            "Sine of angle: 0.17364817766693033\n",
            "Cosine of angle: 0.984807753012208\n"
          ]
        }
      ]
    },
    {
      "cell_type": "markdown",
      "source": [
        "Fotorial Using Recrsion"
      ],
      "metadata": {
        "id": "mZk88wWoTUCe"
      }
    },
    {
      "cell_type": "code",
      "source": [
        "def factorial(n):\n",
        "  if n == 0:\n",
        "    return 1\n",
        "  else:\n",
        "      return n * factorial(n - 1)\n",
        "num = int(input(\"Enter a number:\"))\n",
        "print(\"factorial:\",factorial(num))"
      ],
      "metadata": {
        "colab": {
          "base_uri": "https://localhost:8080/"
        },
        "id": "3KbMQlDyTe9G",
        "outputId": "6f29aea7-f359-4b1f-ce09-e35480c28a90"
      },
      "execution_count": 5,
      "outputs": [
        {
          "output_type": "stream",
          "name": "stdout",
          "text": [
            "Enter a number:8\n",
            "factorial: 40320\n"
          ]
        }
      ]
    },
    {
      "cell_type": "markdown",
      "source": [
        "Reverse a String Using a Function\n"
      ],
      "metadata": {
        "id": "zcn2ZQhgUfU-"
      }
    },
    {
      "cell_type": "code",
      "source": [
        "def reverse_string(s):\n",
        "  return s[::-1]\n",
        "\n",
        "text = input(\"Enter a string:\")\n",
        "print(\"Reversed string:\",reverse_string(text))"
      ],
      "metadata": {
        "colab": {
          "base_uri": "https://localhost:8080/"
        },
        "id": "mb-PySeCUyjG",
        "outputId": "50fb6c6f-10e6-4644-e7be-529aea947c9e"
      },
      "execution_count": 10,
      "outputs": [
        {
          "output_type": "stream",
          "name": "stdout",
          "text": [
            "Enter a string:121\n",
            "Reversed string: 121\n"
          ]
        }
      ]
    },
    {
      "cell_type": "markdown",
      "source": [
        "Find GCD of Two Numbers Using a Function"
      ],
      "metadata": {
        "id": "KqC_8z4MWB22"
      }
    },
    {
      "cell_type": "code",
      "source": [
        "def gcd(a,b):\n",
        "  while b:\n",
        "    a,b=b,a%b\n",
        "  return a\n",
        "num1=int(input(\"Enter the first number:\"))\n",
        "num2=int(input(\"Enter second number:\"))\n",
        "print(\"GCD:\",gcd(num1,num2))"
      ],
      "metadata": {
        "colab": {
          "base_uri": "https://localhost:8080/"
        },
        "id": "PbM97mFUWMZV",
        "outputId": "50030266-2905-48c9-c048-12efaee6bf87"
      },
      "execution_count": 14,
      "outputs": [
        {
          "output_type": "stream",
          "name": "stdout",
          "text": [
            "Enter the first number:8\n",
            "Enter second number:6\n",
            "GCD: 2\n"
          ]
        }
      ]
    }
  ]
}